{
 "cells": [
  {
   "cell_type": "code",
   "execution_count": null,
   "metadata": {},
   "outputs": [],
   "source": [
    "#imports\n",
    "import rmlib\n",
    "import numpy as np\n",
    "\n",
    "rm = rmlib.RMLib()\n",
    "\n",
    "feature_dictionary = rm.load_feature_dictionary(\"assembly_features\")"
   ]
  },
  {
   "cell_type": "code",
   "execution_count": null,
   "metadata": {},
   "outputs": [],
   "source": [
    "#Move to safe position above mat\n",
    "rm.movej(feature_dictionary['safe']['pose'])\n",
    "rm.open_gripper()"
   ]
  },
  {
   "cell_type": "code",
   "execution_count": 5,
   "metadata": {},
   "outputs": [
    {
     "data": {
      "text/plain": [
       "1"
      ]
     },
     "execution_count": 5,
     "metadata": {},
     "output_type": "execute_result"
    }
   ],
   "source": [
    "#Refine location\n",
    "refined_block_1 = rm.refine_cloud_location(feature_dictionary['block_1'],output=False)\n",
    "\n",
    "refined_block_1 = rm.set_to_current_rotation(refined_block_1)\n",
    "\n",
    "#Pick up gear_3\n",
    "rm.pick_part(refined_block_1, 0.04, finger_width = 0.07, offset=0.01)\n",
    "\n",
    "#Move to safe position above mat\n",
    "rm.movej(feature_dictionary['safe']['pose'])"
   ]
  },
  {
   "cell_type": "code",
   "execution_count": null,
   "metadata": {},
   "outputs": [],
   "source": []
  }
 ],
 "metadata": {
  "kernelspec": {
   "display_name": "Python 3",
   "language": "python",
   "name": "python3"
  },
  "language_info": {
   "codemirror_mode": {
    "name": "ipython",
    "version": 3
   },
   "file_extension": ".py",
   "mimetype": "text/x-python",
   "name": "python",
   "nbconvert_exporter": "python",
   "pygments_lexer": "ipython3",
   "version": "3.5.2"
  }
 },
 "nbformat": 4,
 "nbformat_minor": 2
}
