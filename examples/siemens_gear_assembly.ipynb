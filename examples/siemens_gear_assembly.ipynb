{
 "cells": [
  {
   "cell_type": "markdown",
   "metadata": {},
   "source": [
    "# Initialize"
   ]
  },
  {
   "cell_type": "code",
   "execution_count": 1,
   "metadata": {},
   "outputs": [
    {
     "name": "stdout",
     "output_type": "stream",
     "text": [
      "Setting up robot please wait...\n",
      "Robot Ready!\n"
     ]
    }
   ],
   "source": [
    "import rmlib\n",
    "rm = rmlib.RMLib()\n",
    "%store -r\n",
    "\n",
    "# Vars\n",
    "search_height = 0.15\n",
    "\n",
    "# Base offsets (base frame)\n",
    "peg_1_offset = [-0.015, -0.015, 0.04]\n",
    "hole_2_offset = [0.045, -0.015, -0.022]\n",
    "hole_3_offset = [-0.015, 0.045, -0.022]\n",
    "\n",
    "# Peg offsets\n",
    "peg_2_height = 0.052\n",
    "peg_3_height = 0.052\n",
    "\n",
    "# Part key\n",
    "KEY = {\n",
    "    0 : \"Base\",\n",
    "    1 : \"Gear 1\",\n",
    "    2 : \"Gear 2\",\n",
    "    3 : \"Gear 3\",\n",
    "    4 : \"Peg 2\",\n",
    "    5 : \"Peg 3\",\n",
    "}"
   ]
  },
  {
   "cell_type": "markdown",
   "metadata": {},
   "source": [
    "# Setup"
   ]
  },
  {
   "cell_type": "markdown",
   "metadata": {},
   "source": [
    "## Setup Start Waypoint"
   ]
  },
  {
   "cell_type": "markdown",
   "metadata": {},
   "source": [
    "Note: Set this waypoint about 0.2 meters above the Seimens gear assembly parts with all parts in view"
   ]
  },
  {
   "cell_type": "code",
   "execution_count": 2,
   "metadata": {},
   "outputs": [
    {
     "data": {
      "text/plain": [
       "True"
      ]
     },
     "execution_count": 2,
     "metadata": {},
     "output_type": "execute_result"
    }
   ],
   "source": [
    "rm.align_gripper_with_axis()"
   ]
  },
  {
   "cell_type": "code",
   "execution_count": 3,
   "metadata": {},
   "outputs": [],
   "source": [
    "# Set start_view\n",
    "start_view = rm.get_tcp_pose()"
   ]
  },
  {
   "cell_type": "code",
   "execution_count": 4,
   "metadata": {},
   "outputs": [
    {
     "name": "stdout",
     "output_type": "stream",
     "text": [
      "Stored 'start_view' (ndarray)\n"
     ]
    }
   ],
   "source": [
    "# Store start_view\n",
    "%store start_view"
   ]
  },
  {
   "cell_type": "markdown",
   "metadata": {},
   "source": [
    "## Setup Lib"
   ]
  },
  {
   "cell_type": "markdown",
   "metadata": {},
   "source": [
    "Note: Feature lib creation and editing  will soon be replaced by the feature editor, making the creation of feature a simple and straight forward process."
   ]
  },
  {
   "cell_type": "code",
   "execution_count": 5,
   "metadata": {},
   "outputs": [],
   "source": [
    "# Create Lib\n",
    "lib = {\n",
    "\n",
    "    # Siemens parts\n",
    "    'siemens_parts':\n",
    "    {\n",
    "        'view_distance': 0.15,\n",
    "        'capture_process_list':\n",
    "        [\n",
    "            {\n",
    "                'descriptor': 'downsample',\n",
    "                'leaf_size': 0.0015,\n",
    "            },\n",
    "            {\n",
    "                'descriptor': 'remove_plane',\n",
    "                'plane_tol': 0.003,\n",
    "            },\n",
    "            {\n",
    "                'descriptor': 'dbscan',\n",
    "                'min_samples': 10,\n",
    "                'search_radius': 0.008,\n",
    "            },\n",
    "            # Find base\n",
    "            {\n",
    "                'descriptor': 'filter_by_size',\n",
    "                'cluster_size': [40, 10000000],\n",
    "                'max_clouds_returned': 100,\n",
    "                'x_axis': [0.085, 0.3],\n",
    "                'y_axis': [0.06, 0.3],\n",
    "                'z_axis': [0, 0],\n",
    "                'input_key_1': '2'\n",
    "            },\n",
    "            {\n",
    "                'descriptor': 'find_pose',\n",
    "                'input_key_1': '3'\n",
    "            },\n",
    "            # Find gear 1\n",
    "            {\n",
    "                'descriptor': 'filter_by_size',\n",
    "                'cluster_size': [40, 10000000],\n",
    "                'max_clouds_returned': 100,\n",
    "                'x_axis': [0.065, 0.085],\n",
    "                'y_axis': [0.065, 0.085],\n",
    "                'z_axis': [0, 0],\n",
    "                'input_key_1': '2'\n",
    "            },\n",
    "            {\n",
    "                'descriptor': 'sort_clouds_size',\n",
    "                'large_to_small': True,\n",
    "                'input_key_1': '5'\n",
    "            },\n",
    "            {\n",
    "                'descriptor': 'find_pose',\n",
    "                'input_key_1': '6'\n",
    "            },\n",
    "            # Find gear 2\n",
    "            {\n",
    "                'descriptor': 'filter_by_size',\n",
    "                'cluster_size': [40, 10000000],\n",
    "                'max_clouds_returned': 100,\n",
    "                'x_axis': [0.065, 0.085],\n",
    "                'y_axis': [0.065, 0.085],\n",
    "                'z_axis': [0, 0],\n",
    "                'input_key_1': '2'\n",
    "            },\n",
    "            {\n",
    "                'descriptor': 'sort_clouds_size',\n",
    "                'large_to_small': False,\n",
    "                'input_key_1': '8'\n",
    "            },\n",
    "            {\n",
    "                'descriptor': 'find_pose',\n",
    "                'input_key_1': '9'\n",
    "            },\n",
    "            # Find gear 3\n",
    "            {\n",
    "                'descriptor': 'filter_by_size',\n",
    "                'cluster_size': [40, 10000000],\n",
    "                'max_clouds_returned': 100,\n",
    "                'x_axis': [0.04, 0.06],\n",
    "                'y_axis': [0.04, 0.06],\n",
    "                'z_axis': [0, 0],\n",
    "                'input_key_1': '2'\n",
    "            },\n",
    "            {\n",
    "                'descriptor': 'find_pose',\n",
    "                'input_key_1': '11'\n",
    "            },\n",
    "            # Find peg 2\n",
    "            {\n",
    "                'descriptor': 'filter_by_size',\n",
    "                'cluster_size': [20, 10000000],\n",
    "                'max_clouds_returned': 100,\n",
    "                'x_axis': [0.012, 0.0275],\n",
    "                'y_axis': [0.012, 0.027],\n",
    "                'z_axis': [0, 0],\n",
    "                'input_key_1': '2'\n",
    "            },\n",
    "            {\n",
    "                'descriptor': 'sort_clouds_size',\n",
    "                'large_to_small': True,\n",
    "                'input_key_1': '13'\n",
    "            },\n",
    "            {\n",
    "                'descriptor': 'find_pose',\n",
    "                'input_key_1': '14'\n",
    "            },\n",
    "            # Find peg 3\n",
    "            {\n",
    "                'descriptor': 'filter_by_size',\n",
    "                'cluster_size': [20, 10000000],\n",
    "                'max_clouds_returned': 100,\n",
    "                'x_axis': [0.012, 0.027],\n",
    "                'y_axis': [0.012, 0.02],\n",
    "                'z_axis': [0, 0],\n",
    "                'input_key_1': '2'\n",
    "            },\n",
    "            {\n",
    "                'descriptor': 'sort_clouds_size',\n",
    "                'large_to_small': False,\n",
    "                'input_key_1': '16'\n",
    "            },\n",
    "            {\n",
    "                'descriptor': 'find_pose',\n",
    "                'input_key_1': '17'\n",
    "            },\n",
    "        ]\n",
    "    },\n",
    "\n",
    "    # Peg 1\n",
    "    'peg_1':\n",
    "    {\n",
    "        'view_distance': 0.15,\n",
    "        'capture_process_list':\n",
    "        [\n",
    "            {\n",
    "                'descriptor': 'downsample',\n",
    "                'leaf_size': 0.002,\n",
    "            },\n",
    "            {\n",
    "                'descriptor': 'remove_plane',\n",
    "                'plane_tol': 0.04,\n",
    "            },\n",
    "            {\n",
    "                'descriptor': 'dbscan',\n",
    "                'min_samples': 10,\n",
    "                'search_radius': 0.008,\n",
    "            },\n",
    "            {\n",
    "                'descriptor': 'filter_by_size',\n",
    "                'cluster_size': [20, 10000000],\n",
    "                'max_clouds_returned': 100,\n",
    "                'x_axis': [0.008, 0.015],\n",
    "                'y_axis': [0.006, 0.015],\n",
    "                'z_axis': [0, 0],\n",
    "            },\n",
    "            {\n",
    "                'descriptor': 'sort_clouds_size',\n",
    "                'large_to_small': False\n",
    "            },\n",
    "            {\n",
    "                'descriptor': 'find_pose',\n",
    "                'rotate_z': False\n",
    "            }\n",
    "        ]\n",
    "    },\n",
    "\n",
    "    # Gear 1\n",
    "    'gear_1':\n",
    "    {\n",
    "        'view_distance': 0.15,\n",
    "        'capture_process_list':\n",
    "        [\n",
    "            {\n",
    "                'descriptor': 'downsample',\n",
    "                'leaf_size': 0.002,\n",
    "            },\n",
    "            {\n",
    "                'descriptor': 'remove_plane',\n",
    "                'plane_tol': 0.003,\n",
    "            },\n",
    "            {\n",
    "                'descriptor': 'dbscan',\n",
    "                'min_samples': 10,\n",
    "                'search_radius': 0.01,\n",
    "            },\n",
    "            {\n",
    "                'descriptor': 'filter_by_size',\n",
    "                'cluster_size': [40, 10000000],\n",
    "                'max_clouds_returned': 100,\n",
    "                'x_axis': [0.07, 0.085],\n",
    "                'y_axis': [0.07, 0.085],\n",
    "                'z_axis': [0, 0],\n",
    "            },\n",
    "            {\n",
    "                'descriptor': 'sort_clouds_size',\n",
    "                'large_to_small': True\n",
    "            },\n",
    "            {\n",
    "                'descriptor': 'find_grasp',\n",
    "                'rotate_z': False\n",
    "            }\n",
    "        ]\n",
    "    },\n",
    "\n",
    "    # Hole 2\n",
    "    'hole_2':\n",
    "    {\n",
    "        'view_distance': 0.075,\n",
    "        'capture_process_list':\n",
    "        [\n",
    "            {\n",
    "                'descriptor': 'center_circle',\n",
    "                'search_radius_px': 500,\n",
    "                'min_dist_px': 154.0,\n",
    "                'param_1': 40,\n",
    "                'param_2': 31,\n",
    "                'blur': 9,\n",
    "                'min_rad_px': 65,\n",
    "                'max_rad_px': 90\n",
    "            }\n",
    "        ]\n",
    "    },\n",
    "\n",
    "    # Peg 2\n",
    "    'peg_2':\n",
    "    {\n",
    "        'view_distance': 0.15,\n",
    "        'capture_process_list':\n",
    "        [\n",
    "            {\n",
    "                'descriptor': 'downsample',\n",
    "                'leaf_size': 0.002,\n",
    "            },\n",
    "            {\n",
    "                'descriptor': 'remove_plane',\n",
    "                'plane_tol': 0.003,\n",
    "            },\n",
    "            {\n",
    "                'descriptor': 'dbscan',\n",
    "                'min_samples': 10,\n",
    "                'search_radius': 0.008,\n",
    "            },\n",
    "            {\n",
    "                'descriptor': 'filter_by_size',\n",
    "                'cluster_size': [20, 10000000],\n",
    "                'max_clouds_returned': 100,\n",
    "                'x_axis': [0.012, 0.025],\n",
    "                'y_axis': [0.012, 0.02],\n",
    "                'z_axis': [0, 0],\n",
    "            },\n",
    "            {\n",
    "                'descriptor': 'sort_clouds_size',\n",
    "                'large_to_small': True\n",
    "            },\n",
    "            {\n",
    "                'descriptor': 'find_grasp',\n",
    "                'rotate_z': True\n",
    "            }\n",
    "        ]\n",
    "    },\n",
    "    # Peg 3\n",
    "    'peg_3':\n",
    "    {\n",
    "        'view_distance': 0.15,\n",
    "        'capture_process_list':\n",
    "        [\n",
    "            {\n",
    "                'descriptor': 'downsample',\n",
    "                'leaf_size': 0.002,\n",
    "            },\n",
    "            {\n",
    "                'descriptor': 'remove_plane',\n",
    "                'plane_tol': 0.003,\n",
    "            },\n",
    "            {\n",
    "                'descriptor': 'dbscan',\n",
    "                'min_samples': 10,\n",
    "                'search_radius': 0.008,\n",
    "            },\n",
    "            {\n",
    "                'descriptor': 'filter_by_size',\n",
    "                'cluster_size': [20, 10000000],\n",
    "                'max_clouds_returned': 100,\n",
    "                'x_axis': [0.012, 0.025],\n",
    "                'y_axis': [0.012, 0.02],\n",
    "                'z_axis': [0, 0],\n",
    "            },\n",
    "            {\n",
    "                'descriptor': 'sort_clouds_size',\n",
    "                'large_to_small': False,\n",
    "            },\n",
    "            {\n",
    "                'descriptor': 'find_grasp',\n",
    "                'rotate_z': True,\n",
    "            }\n",
    "        ]\n",
    "    },\n",
    "\n",
    "    # Gear 2\n",
    "    'gear_2':\n",
    "    {\n",
    "        'view_distance': 0.15,\n",
    "        'capture_process_list':\n",
    "        [\n",
    "            {\n",
    "                'descriptor': 'downsample',\n",
    "                'leaf_size': 0.002,\n",
    "            },\n",
    "            {\n",
    "                'descriptor': 'remove_plane',\n",
    "                'plane_tol': 0.002,\n",
    "            },\n",
    "            {\n",
    "                'descriptor': 'dbscan',\n",
    "                'min_samples': 10,\n",
    "                'search_radius': 0.01,\n",
    "            },\n",
    "            {\n",
    "                'descriptor': 'filter_by_size',\n",
    "                'cluster_size': [40, 10000000],\n",
    "                'max_clouds_returned': 100,\n",
    "                'x_axis': [0.07, 0.085],\n",
    "                'y_axis': [0.07, 0.085],\n",
    "                'z_axis': [0, 0],\n",
    "            },\n",
    "            {\n",
    "                'descriptor': 'sort_clouds_size',\n",
    "                'large_to_small': False\n",
    "            },\n",
    "            {\n",
    "                'descriptor': 'find_grasp',\n",
    "                'rotate_z': False,\n",
    "            }\n",
    "        ]\n",
    "    },\n",
    "\n",
    "    # Gear 3\n",
    "    'gear_3':\n",
    "    {\n",
    "        'view_distance': 0.15,\n",
    "        'capture_process_list':\n",
    "        [\n",
    "            {\n",
    "                'descriptor': 'downsample',\n",
    "                'leaf_size': 0.002,\n",
    "            },\n",
    "            {\n",
    "                'descriptor': 'remove_plane',\n",
    "                'plane_tol': 0.002,\n",
    "            },\n",
    "            {\n",
    "                'descriptor': 'dbscan',\n",
    "                'min_samples': 10,\n",
    "                'search_radius': 0.01,\n",
    "            },\n",
    "            {\n",
    "                'descriptor': 'filter_by_size',\n",
    "                'cluster_size': [40, 10000000],\n",
    "                'max_clouds_returned': 100,\n",
    "                'x_axis': [0.04, 0.06],\n",
    "                'y_axis': [0.04, 0.06],\n",
    "                'z_axis': [0, 0],\n",
    "            },\n",
    "            {\n",
    "                'descriptor': 'sort_clouds_distance',\n",
    "                'close_to_far': True\n",
    "            },\n",
    "            {\n",
    "                'descriptor': 'find_grasp',\n",
    "                'rotate_z': False,\n",
    "            }\n",
    "        ]\n",
    "    },\n",
    "}\n"
   ]
  },
  {
   "cell_type": "code",
   "execution_count": 6,
   "metadata": {},
   "outputs": [
    {
     "name": "stdout",
     "output_type": "stream",
     "text": [
      "Stored 'lib' (dict)\n"
     ]
    }
   ],
   "source": [
    "%store lib"
   ]
  },
  {
   "cell_type": "code",
   "execution_count": 7,
   "metadata": {},
   "outputs": [
    {
     "name": "stdout",
     "output_type": "stream",
     "text": [
      "Library Features:\n",
      "gear_1:\n",
      "       capture_process_list :\n",
      "              0 :\n",
      "              descriptor  =  downsample\n",
      "              leaf_size  =  0.002\n",
      "              1 :\n",
      "              descriptor  =  remove_plane\n",
      "              plane_tol  =  0.003\n",
      "              2 :\n",
      "              descriptor  =  dbscan\n",
      "              min_samples  =  10\n",
      "              search_radius  =  0.01\n",
      "              3 :\n",
      "              cluster_size  =  [40, 10000000]\n",
      "              descriptor  =  filter_by_size\n",
      "              max_clouds_returned  =  100\n",
      "              x_axis  =  [0.07, 0.085]\n",
      "              y_axis  =  [0.07, 0.085]\n",
      "              z_axis  =  [0, 0]\n",
      "              4 :\n",
      "              descriptor  =  sort_clouds_size\n",
      "              large_to_small  =  True\n",
      "              5 :\n",
      "              descriptor  =  find_grasp\n",
      "              rotate_z  =  False\n",
      "       view_distance  =  0.15\n",
      "gear_2:\n",
      "       capture_process_list :\n",
      "              0 :\n",
      "              descriptor  =  downsample\n",
      "              leaf_size  =  0.002\n",
      "              1 :\n",
      "              descriptor  =  remove_plane\n",
      "              plane_tol  =  0.002\n",
      "              2 :\n",
      "              descriptor  =  dbscan\n",
      "              min_samples  =  10\n",
      "              search_radius  =  0.01\n",
      "              3 :\n",
      "              cluster_size  =  [40, 10000000]\n",
      "              descriptor  =  filter_by_size\n",
      "              max_clouds_returned  =  100\n",
      "              x_axis  =  [0.07, 0.085]\n",
      "              y_axis  =  [0.07, 0.085]\n",
      "              z_axis  =  [0, 0]\n",
      "              4 :\n",
      "              descriptor  =  sort_clouds_size\n",
      "              large_to_small  =  False\n",
      "              5 :\n",
      "              descriptor  =  find_grasp\n",
      "              rotate_z  =  False\n",
      "       view_distance  =  0.15\n",
      "gear_3:\n",
      "       capture_process_list :\n",
      "              0 :\n",
      "              descriptor  =  downsample\n",
      "              leaf_size  =  0.002\n",
      "              1 :\n",
      "              descriptor  =  remove_plane\n",
      "              plane_tol  =  0.002\n",
      "              2 :\n",
      "              descriptor  =  dbscan\n",
      "              min_samples  =  10\n",
      "              search_radius  =  0.01\n",
      "              3 :\n",
      "              cluster_size  =  [40, 10000000]\n",
      "              descriptor  =  filter_by_size\n",
      "              max_clouds_returned  =  100\n",
      "              x_axis  =  [0.04, 0.06]\n",
      "              y_axis  =  [0.04, 0.06]\n",
      "              z_axis  =  [0, 0]\n",
      "              4 :\n",
      "              close_to_far  =  True\n",
      "              descriptor  =  sort_clouds_distance\n",
      "              5 :\n",
      "              descriptor  =  find_grasp\n",
      "              rotate_z  =  False\n",
      "       view_distance  =  0.15\n",
      "hole_2:\n",
      "       capture_process_list :\n",
      "              0 :\n",
      "              blur  =  9\n",
      "              descriptor  =  center_circle\n",
      "              max_rad_px  =  90\n",
      "              min_dist_px  =  154.0\n",
      "              min_rad_px  =  65\n",
      "              param_1  =  40\n",
      "              param_2  =  31\n",
      "              search_radius_px  =  500\n",
      "       view_distance  =  0.075\n",
      "peg_1:\n",
      "       capture_process_list :\n",
      "              0 :\n",
      "              descriptor  =  downsample\n",
      "              leaf_size  =  0.002\n",
      "              1 :\n",
      "              descriptor  =  remove_plane\n",
      "              plane_tol  =  0.04\n",
      "              2 :\n",
      "              descriptor  =  dbscan\n",
      "              min_samples  =  10\n",
      "              search_radius  =  0.008\n",
      "              3 :\n",
      "              cluster_size  =  [20, 10000000]\n",
      "              descriptor  =  filter_by_size\n",
      "              max_clouds_returned  =  100\n",
      "              x_axis  =  [0.008, 0.015]\n",
      "              y_axis  =  [0.006, 0.015]\n",
      "              z_axis  =  [0, 0]\n",
      "              4 :\n",
      "              descriptor  =  sort_clouds_size\n",
      "              large_to_small  =  False\n",
      "              5 :\n",
      "              descriptor  =  find_pose\n",
      "              rotate_z  =  False\n",
      "       view_distance  =  0.15\n",
      "peg_2:\n",
      "       capture_process_list :\n",
      "              0 :\n",
      "              descriptor  =  downsample\n",
      "              leaf_size  =  0.002\n",
      "              1 :\n",
      "              descriptor  =  remove_plane\n",
      "              plane_tol  =  0.003\n",
      "              2 :\n",
      "              descriptor  =  dbscan\n",
      "              min_samples  =  10\n",
      "              search_radius  =  0.008\n",
      "              3 :\n",
      "              cluster_size  =  [20, 10000000]\n",
      "              descriptor  =  filter_by_size\n",
      "              max_clouds_returned  =  100\n",
      "              x_axis  =  [0.012, 0.025]\n",
      "              y_axis  =  [0.012, 0.02]\n",
      "              z_axis  =  [0, 0]\n",
      "              4 :\n",
      "              descriptor  =  sort_clouds_size\n",
      "              large_to_small  =  True\n",
      "              5 :\n",
      "              descriptor  =  find_grasp\n",
      "              rotate_z  =  True\n",
      "       view_distance  =  0.15\n",
      "peg_3:\n",
      "       capture_process_list :\n",
      "              0 :\n",
      "              descriptor  =  downsample\n",
      "              leaf_size  =  0.002\n",
      "              1 :\n",
      "              descriptor  =  remove_plane\n",
      "              plane_tol  =  0.003\n",
      "              2 :\n",
      "              descriptor  =  dbscan\n",
      "              min_samples  =  10\n",
      "              search_radius  =  0.008\n",
      "              3 :\n",
      "              cluster_size  =  [20, 10000000]\n",
      "              descriptor  =  filter_by_size\n",
      "              max_clouds_returned  =  100\n",
      "              x_axis  =  [0.012, 0.025]\n",
      "              y_axis  =  [0.012, 0.02]\n",
      "              z_axis  =  [0, 0]\n",
      "              4 :\n",
      "              descriptor  =  sort_clouds_size\n",
      "              large_to_small  =  False\n",
      "              5 :\n",
      "              descriptor  =  find_grasp\n",
      "              rotate_z  =  True\n",
      "       view_distance  =  0.15\n",
      "siemens_parts:\n",
      "       capture_process_list :\n",
      "              0 :\n",
      "              descriptor  =  downsample\n",
      "              leaf_size  =  0.0015\n",
      "              1 :\n",
      "              descriptor  =  remove_plane\n",
      "              plane_tol  =  0.003\n",
      "              2 :\n",
      "              descriptor  =  dbscan\n",
      "              min_samples  =  10\n",
      "              search_radius  =  0.008\n",
      "              3 :\n",
      "              cluster_size  =  [40, 10000000]\n",
      "              descriptor  =  filter_by_size\n",
      "              input_key_1  =  2\n",
      "              max_clouds_returned  =  100\n",
      "              x_axis  =  [0.085, 0.3]\n",
      "              y_axis  =  [0.06, 0.3]\n",
      "              z_axis  =  [0, 0]\n",
      "              4 :\n",
      "              descriptor  =  find_pose\n",
      "              input_key_1  =  3\n",
      "              5 :\n",
      "              cluster_size  =  [40, 10000000]\n",
      "              descriptor  =  filter_by_size\n",
      "              input_key_1  =  2\n",
      "              max_clouds_returned  =  100\n",
      "              x_axis  =  [0.065, 0.085]\n",
      "              y_axis  =  [0.065, 0.085]\n",
      "              z_axis  =  [0, 0]\n",
      "              6 :\n",
      "              descriptor  =  sort_clouds_size\n",
      "              input_key_1  =  5\n",
      "              large_to_small  =  True\n",
      "              7 :\n",
      "              descriptor  =  find_pose\n",
      "              input_key_1  =  6\n",
      "              8 :\n",
      "              cluster_size  =  [40, 10000000]\n",
      "              descriptor  =  filter_by_size\n",
      "              input_key_1  =  2\n",
      "              max_clouds_returned  =  100\n",
      "              x_axis  =  [0.065, 0.085]\n",
      "              y_axis  =  [0.065, 0.085]\n",
      "              z_axis  =  [0, 0]\n",
      "              9 :\n",
      "              descriptor  =  sort_clouds_size\n",
      "              input_key_1  =  8\n",
      "              large_to_small  =  False\n",
      "              10 :\n",
      "              descriptor  =  find_pose\n",
      "              input_key_1  =  9\n",
      "              11 :\n",
      "              cluster_size  =  [40, 10000000]\n",
      "              descriptor  =  filter_by_size\n",
      "              input_key_1  =  2\n",
      "              max_clouds_returned  =  100\n",
      "              x_axis  =  [0.04, 0.06]\n",
      "              y_axis  =  [0.04, 0.06]\n",
      "              z_axis  =  [0, 0]\n",
      "              12 :\n",
      "              descriptor  =  find_pose\n",
      "              input_key_1  =  11\n",
      "              13 :\n",
      "              cluster_size  =  [20, 10000000]\n",
      "              descriptor  =  filter_by_size\n",
      "              input_key_1  =  2\n",
      "              max_clouds_returned  =  100\n",
      "              x_axis  =  [0.012, 0.0275]\n",
      "              y_axis  =  [0.012, 0.027]\n",
      "              z_axis  =  [0, 0]\n",
      "              14 :\n",
      "              descriptor  =  sort_clouds_size\n",
      "              input_key_1  =  13\n",
      "              large_to_small  =  True\n",
      "              15 :\n",
      "              descriptor  =  find_pose\n",
      "              input_key_1  =  14\n",
      "              16 :\n",
      "              cluster_size  =  [20, 10000000]\n",
      "              descriptor  =  filter_by_size\n",
      "              input_key_1  =  2\n",
      "              max_clouds_returned  =  100\n",
      "              x_axis  =  [0.012, 0.027]\n",
      "              y_axis  =  [0.012, 0.02]\n",
      "              z_axis  =  [0, 0]\n",
      "              17 :\n",
      "              descriptor  =  sort_clouds_size\n",
      "              input_key_1  =  16\n",
      "              large_to_small  =  False\n",
      "              18 :\n",
      "              descriptor  =  find_pose\n",
      "              input_key_1  =  17\n",
      "       view_distance  =  0.15\n"
     ]
    }
   ],
   "source": [
    "rm.print_feature_lib(lib)"
   ]
  },
  {
   "cell_type": "markdown",
   "metadata": {},
   "source": [
    "# Find Parts Starting Positions"
   ]
  },
  {
   "cell_type": "code",
   "execution_count": 8,
   "metadata": {},
   "outputs": [
    {
     "data": {
      "text/plain": [
       "True"
      ]
     },
     "execution_count": 8,
     "metadata": {},
     "output_type": "execute_result"
    }
   ],
   "source": [
    "# Move to start position\n",
    "rm.movej(start_view)\n",
    "rm.open_gripper()\n"
   ]
  },
  {
   "cell_type": "code",
   "execution_count": 9,
   "metadata": {},
   "outputs": [
    {
     "name": "stdout",
     "output_type": "stream",
     "text": [
      "Segment Cloud DBScan Output:\n"
     ]
    },
    {
     "data": {
      "application/vnd.jupyter.widget-view+json": {
       "model_id": "d6f8adc7a1da4c7c8cfee7b6f8495919",
       "version_major": 2,
       "version_minor": 0
      },
      "text/plain": [
       "Renderer(camera=PerspectiveCamera(aspect=1.6, fov=90.0, position=(0.017555358206726823, 0.19252995112178387, 0…"
      ]
     },
     "metadata": {},
     "output_type": "display_data"
    },
    {
     "data": {
      "application/vnd.jupyter.widget-view+json": {
       "model_id": "b6fc904677c84675a934ac1d0bd433b7",
       "version_major": 2,
       "version_minor": 0
      },
      "text/plain": [
       "HBox(children=(Label(value='Point size:'), FloatSlider(value=0.001, max=0.01, step=1e-05), Label(value='Backgr…"
      ]
     },
     "metadata": {},
     "output_type": "display_data"
    },
    {
     "data": {
      "application/vnd.jupyter.widget-view+json": {
       "model_id": "798fe69340d14e7dbb0995cba7d2a487",
       "version_major": 2,
       "version_minor": 0
      },
      "text/plain": [
       "Renderer(camera=PerspectiveCamera(aspect=1.6, fov=90.0, position=(0.020323023201845678, 0.02718455125063955, 0…"
      ]
     },
     "metadata": {},
     "output_type": "display_data"
    },
    {
     "data": {
      "application/vnd.jupyter.widget-view+json": {
       "model_id": "cb0e68e15f224da68b39de33349fe2bf",
       "version_major": 2,
       "version_minor": 0
      },
      "text/plain": [
       "HBox(children=(Label(value='Point size:'), FloatSlider(value=0.001, max=0.01, step=1e-05), Label(value='Backgr…"
      ]
     },
     "metadata": {},
     "output_type": "display_data"
    },
    {
     "data": {
      "application/vnd.jupyter.widget-view+json": {
       "model_id": "d8b1bf390a37455c8304b36b7f34ae11",
       "version_major": 2,
       "version_minor": 0
      },
      "text/plain": [
       "Renderer(camera=PerspectiveCamera(aspect=1.6, fov=90.0, position=(0.07915140764634594, 0.25689231106094995, 0.…"
      ]
     },
     "metadata": {},
     "output_type": "display_data"
    },
    {
     "data": {
      "application/vnd.jupyter.widget-view+json": {
       "model_id": "afa9b45fcb8d4f8c952bc225240a0ee9",
       "version_major": 2,
       "version_minor": 0
      },
      "text/plain": [
       "HBox(children=(Label(value='Point size:'), FloatSlider(value=0.001, max=0.01, step=1e-05), Label(value='Backgr…"
      ]
     },
     "metadata": {},
     "output_type": "display_data"
    },
    {
     "data": {
      "application/vnd.jupyter.widget-view+json": {
       "model_id": "963f3efd75aa4b5394a2677d09a25fff",
       "version_major": 2,
       "version_minor": 0
      },
      "text/plain": [
       "Renderer(camera=PerspectiveCamera(aspect=1.6, fov=90.0, position=(-0.03938932070832823, 0.25172624512476893, 0…"
      ]
     },
     "metadata": {},
     "output_type": "display_data"
    },
    {
     "data": {
      "application/vnd.jupyter.widget-view+json": {
       "model_id": "7df41a11f80840bf906df22cec18c13a",
       "version_major": 2,
       "version_minor": 0
      },
      "text/plain": [
       "HBox(children=(Label(value='Point size:'), FloatSlider(value=0.001, max=0.01, step=1e-05), Label(value='Backgr…"
      ]
     },
     "metadata": {},
     "output_type": "display_data"
    },
    {
     "data": {
      "application/vnd.jupyter.widget-view+json": {
       "model_id": "1dc6734a17cf450fb38097876f779bae",
       "version_major": 2,
       "version_minor": 0
      },
      "text/plain": [
       "Renderer(camera=PerspectiveCamera(aspect=1.6, fov=90.0, position=(-0.057687951716122156, -0.0921076167504498, …"
      ]
     },
     "metadata": {},
     "output_type": "display_data"
    },
    {
     "data": {
      "application/vnd.jupyter.widget-view+json": {
       "model_id": "9e3cf4ff517e40aea708f4352f36e247",
       "version_major": 2,
       "version_minor": 0
      },
      "text/plain": [
       "HBox(children=(Label(value='Point size:'), FloatSlider(value=0.001, max=0.01, step=1e-05), Label(value='Backgr…"
      ]
     },
     "metadata": {},
     "output_type": "display_data"
    },
    {
     "data": {
      "application/vnd.jupyter.widget-view+json": {
       "model_id": "66a15bc6fb53447ebdbd29abc09bce7e",
       "version_major": 2,
       "version_minor": 0
      },
      "text/plain": [
       "Renderer(camera=PerspectiveCamera(aspect=1.6, fov=90.0, position=(0.09700809659090599, -0.0977876984570425, 0.…"
      ]
     },
     "metadata": {},
     "output_type": "display_data"
    },
    {
     "data": {
      "application/vnd.jupyter.widget-view+json": {
       "model_id": "69df4470fdc44ad7bb19849694cd7246",
       "version_major": 2,
       "version_minor": 0
      },
      "text/plain": [
       "HBox(children=(Label(value='Point size:'), FloatSlider(value=0.001, max=0.01, step=1e-05), Label(value='Backgr…"
      ]
     },
     "metadata": {},
     "output_type": "display_data"
    },
    {
     "data": {
      "application/vnd.jupyter.widget-view+json": {
       "model_id": "0b64bfc4c85e40369cc9c845af3fa234",
       "version_major": 2,
       "version_minor": 0
      },
      "text/plain": [
       "Renderer(camera=PerspectiveCamera(aspect=1.6, fov=90.0, position=(0.03491405093595424, -0.0992175429874672, 0.…"
      ]
     },
     "metadata": {},
     "output_type": "display_data"
    },
    {
     "data": {
      "application/vnd.jupyter.widget-view+json": {
       "model_id": "2e7edec9b13b45c682eadd5947dabace",
       "version_major": 2,
       "version_minor": 0
      },
      "text/plain": [
       "HBox(children=(Label(value='Point size:'), FloatSlider(value=0.001, max=0.01, step=1e-05), Label(value='Backgr…"
      ]
     },
     "metadata": {},
     "output_type": "display_data"
    },
    {
     "name": "stdout",
     "output_type": "stream",
     "text": [
      "Part: 0 Base FOUND\n",
      "Part: 1 Gear 1 FOUND\n",
      "Part: 2 Gear 2 FOUND\n",
      "Part: 3 Gear 3 FOUND\n",
      "Part: 4 Peg 2 FOUND\n",
      "Part: 5 Peg 3 FOUND\n"
     ]
    }
   ],
   "source": [
    "# Find all siemens parts. If not all parts are found check the DBScan Output to ensure all parts are in view.\n",
    "output=['2', '4', '7', '10', '12', '15', '18']\n",
    "# output = []\n",
    "part_grasp_list = rm.find_feature(lib['siemens_parts'], output=output)\n",
    "for i, part_grasp in enumerate(part_grasp_list):\n",
    "    if part_grasp[0] is None:\n",
    "        print('Part:', i , KEY[i] , 'NOT Found')\n",
    "    else:\n",
    "        print('Part:', i , KEY[i] , 'FOUND')"
   ]
  },
  {
   "cell_type": "markdown",
   "metadata": {},
   "source": [
    "# Gear 1 Assembly"
   ]
  },
  {
   "cell_type": "code",
   "execution_count": 10,
   "metadata": {},
   "outputs": [],
   "source": [
    "# Move to start position\n",
    "rm.movej(start_view)\n",
    "rm.open_gripper()\n",
    "\n",
    "# Move above base\n",
    "rm.move_camera_over_pose(part_grasp_list[0][0], search_height+peg_1_offset[2], cam='cloud') \n",
    "\n",
    "# Refine peg_1 location\n",
    "output = ['2', '5']\n",
    "output = []\n",
    "peg_1_pose = rm.find_feature(lib['peg_1'],output=output)[0][0]\n",
    "\n",
    "# Move above gear_1\n",
    "rm.move_camera_over_pose(part_grasp_list[1][0], search_height, cam='cloud') \n",
    "\n",
    "# Refine gear_1 location\n",
    "output = output=['5']\n",
    "output = []\n",
    "gear_1_grasp = rm.find_feature(lib['gear_1'], output=output)[0]\n",
    "\n",
    "# Pick gear_1\n",
    "rm.pick_part(grasp=gear_1_grasp, approach_dist=search_height, force_limit=None)\n",
    "\n",
    "# Move above base\n",
    "rm.move_tcp_over_pose(peg_1_pose, 0.01)\n",
    "\n",
    "# Assemble gear 1\n",
    "rm.insert_part_spiral_record( touch_force = 0.8 , drop_force = 0.6 , insert_force = 2 , max_movement = 0.3 , \n",
    "                              lateralStopTorque = 0.9 , \n",
    "                              outPath = \"insert_part_spiral_record.txt\", output=False)\n",
    "\n",
    "# Open gripper\n",
    "rm.set_gripper_width(0.09)\n",
    "\n",
    "# Move above base\n",
    "rm.move_tcp_over_pose(peg_1_pose, search_height)"
   ]
  },
  {
   "cell_type": "markdown",
   "metadata": {},
   "source": [
    "# Peg 2 Assembly"
   ]
  },
  {
   "cell_type": "code",
   "execution_count": 11,
   "metadata": {},
   "outputs": [],
   "source": [
    "# Move to start position\n",
    "rm.movej(start_view)\n",
    "rm.open_gripper()\n",
    "\n",
    "# Move above base with hole 2 offset\n",
    "rm.move_camera_over_pose(rm.translate_pose(part_grasp_list[0][0],x=hole_2_offset[0],y=hole_2_offset[1],frame='base'), lib['hole_2']['view_distance']+hole_2_offset[2], cam='color')\n",
    "\n",
    "# Refine hole_2 location\n",
    "output = ['0']\n",
    "output = []\n",
    "hole_2_pose = rm.find_feature(lib['hole_2'],output=output)[0][0]\n",
    "\n",
    "# Move above peg_2\n",
    "rm.move_camera_over_pose(part_grasp_list[4][0], search_height, cam='cloud') \n",
    "\n",
    "# Refine peg_2 location\n",
    "output = output=['5']\n",
    "output = []\n",
    "peg_2_grasp = rm.find_feature(lib['peg_2'], output=output)[0]\n",
    "\n",
    "# Pick peg_2\n",
    "rm.pick_part(grasp=peg_2_grasp, approach_dist=search_height, force_limit=None)\n",
    "\n",
    "# Move above base\n",
    "rm.move_tcp_over_pose(hole_2_pose, 0.05)\n",
    "\n",
    "# Assemble gear 1\n",
    "rm.insert_part_tilt_record(tilt_angle = 25 , part_offset = 0.010 , dia = 0.012 ,\n",
    "                           touch_force = 1.5 , insert_force = 2, max_movement = 0.3 , \n",
    "                           outPath = \"insert_part_tilt_record.txt\", output=False)\n",
    "\n",
    "# Open gripper\n",
    "rm.set_gripper_width(peg_2_grasp[1])\n",
    "\n",
    "\n",
    "# Move above base\n",
    "rm.move_tcp_over_pose(hole_2_pose, search_height)\n"
   ]
  },
  {
   "cell_type": "markdown",
   "metadata": {},
   "source": [
    "# Peg 3 Assembly"
   ]
  },
  {
   "cell_type": "code",
   "execution_count": 12,
   "metadata": {},
   "outputs": [
    {
     "data": {
      "text/plain": [
       "True"
      ]
     },
     "execution_count": 12,
     "metadata": {},
     "output_type": "execute_result"
    }
   ],
   "source": [
    "# Move to start position\n",
    "rm.movej(start_view)\n",
    "rm.open_gripper()\n",
    "\n",
    "# Move above base with hole 2 offset\n",
    "rm.move_camera_over_pose(rm.translate_pose(part_grasp_list[0][0], x=hole_3_offset[0], y=hole_3_offset[1], frame='base'), lib['hole_2']['view_distance']+hole_3_offset[2], cam='color')\n",
    "\n",
    "# Refine hole_2 location\n",
    "output = ['0']\n",
    "output = []\n",
    "hole_3_pose = rm.find_feature(lib['hole_2'], output=output)[0][0]\n",
    "\n",
    "# Move above peg_3\n",
    "rm.move_camera_over_pose(part_grasp_list[5][0], search_height, cam='cloud')\n",
    "\n",
    "# Refine peg_3 location\n",
    "output = output = ['5']\n",
    "output = []\n",
    "peg_3_grasp = rm.find_feature(lib['peg_3'], output=output)[0]\n",
    "\n",
    "# Pick peg_3\n",
    "rm.pick_part(grasp=peg_3_grasp, approach_dist=search_height, force_limit=None)\n",
    "\n",
    "# Move above base\n",
    "rm.move_tcp_over_pose(hole_3_pose, 0.05)\n",
    "\n",
    "# Assemble gear 1\n",
    "rm.insert_part_tilt_record(tilt_angle=25, part_offset=0.012, dia=0.012,\n",
    "                           touch_force=1.5, insert_force=2, max_movement=0.3,\n",
    "                           outPath=\"insert_part_tilt_record.txt\", output=False)\n",
    "\n",
    "# Open gripper\n",
    "rm.set_gripper_width(peg_3_grasp[1])\n",
    "\n",
    "# Move above base\n",
    "rm.move_tcp_over_pose(hole_3_pose, search_height)\n",
    "rm.open_gripper()\n"
   ]
  },
  {
   "cell_type": "markdown",
   "metadata": {},
   "source": [
    "# Gear 2 Assembly"
   ]
  },
  {
   "cell_type": "code",
   "execution_count": 13,
   "metadata": {},
   "outputs": [],
   "source": [
    "# Move to start position\n",
    "rm.movej(start_view)\n",
    "rm.open_gripper()\n",
    "\n",
    "# Move above hole_2\n",
    "rm.move_camera_over_pose(hole_2_pose, search_height+peg_2_height, cam='cloud')\n",
    "\n",
    "# Refine peg_2 location\n",
    "output = output=['5']\n",
    "output = []\n",
    "peg_2_pose = rm.find_feature(lib['peg_2'], output=output)[-1][0]\n",
    "\n",
    "# Move above gear_2\n",
    "rm.move_camera_over_pose(part_grasp_list[2][0], search_height, cam='cloud') \n",
    "\n",
    "# Refine gear_2 location\n",
    "output = output=['5']\n",
    "output = []\n",
    "gear_2_grasp = rm.find_feature(lib['gear_2'], output=output)[0]\n",
    "\n",
    "# Pick gear_1\n",
    "rm.pick_part(grasp=gear_2_grasp, approach_dist=search_height, force_limit=None)\n",
    "\n",
    "# Move above base\n",
    "rm.move_tcp_over_pose(peg_2_pose, 0.01, rotate=True)\n",
    "\n",
    "# Assemble gear 1\n",
    "rm.insert_part_spiral_record(touch_force=0.6, drop_force=0.4, insert_force=2, max_movement=0.3,\n",
    "                             lateralStopTorque=0.9,\n",
    "                             outPath=\"insert_part_spiral_record.txt\", output=False)\n",
    "# Open gripper\n",
    "rm.set_gripper_width(0.09)\n",
    "\n",
    "# Rotate gripper to align gears\n",
    "rm.move_tcp_over_pose(peg_2_pose, -0.01, rotate=True)\n",
    "rm.close_gripper()\n",
    "rm.rotate_joint(15,joint=5)\n",
    "rm.rotate_joint(-15,joint=5)\n",
    "rm.set_gripper_width(0.03)\n",
    "\n",
    "# Move above base\n",
    "rm.move_tcp_over_pose(peg_2_pose, search_height)\n"
   ]
  },
  {
   "cell_type": "markdown",
   "metadata": {},
   "source": [
    "# Gear 3 Assembly"
   ]
  },
  {
   "cell_type": "code",
   "execution_count": 14,
   "metadata": {},
   "outputs": [
    {
     "data": {
      "application/vnd.jupyter.widget-view+json": {
       "model_id": "57cc913e8720435aa743b52101ea451d",
       "version_major": 2,
       "version_minor": 0
      },
      "text/plain": [
       "Renderer(camera=PerspectiveCamera(aspect=1.6, fov=90.0, position=(-0.002184214817864854, 0.423674818548741, 0.…"
      ]
     },
     "metadata": {},
     "output_type": "display_data"
    },
    {
     "data": {
      "application/vnd.jupyter.widget-view+json": {
       "model_id": "ad32b80051f141e2afc1e3146c046228",
       "version_major": 2,
       "version_minor": 0
      },
      "text/plain": [
       "HBox(children=(Label(value='Point size:'), FloatSlider(value=0.001, max=0.01, step=1e-05), Label(value='Backgr…"
      ]
     },
     "metadata": {},
     "output_type": "display_data"
    },
    {
     "data": {
      "text/plain": [
       "True"
      ]
     },
     "execution_count": 14,
     "metadata": {},
     "output_type": "execute_result"
    }
   ],
   "source": [
    "# Move to start position\n",
    "rm.movej(start_view)\n",
    "rm.open_gripper()\n",
    "\n",
    "# Move above hole_2\n",
    "rm.move_camera_over_pose(hole_3_pose, search_height+peg_3_height, cam='cloud')\n",
    "\n",
    "output = output=['5']\n",
    "# output = []\n",
    "peg_3_pose = rm.find_feature(lib['peg_3'], output=output)[-1][0]\n",
    "\n",
    "# Move above gear_3\n",
    "rm.move_camera_over_pose(part_grasp_list[3][0], search_height, cam='cloud') \n",
    "\n",
    "# Refine gear_3 location\n",
    "output = output=['2','3','5']\n",
    "output = []\n",
    "gear_3_grasp = rm.find_feature(lib['gear_3'], output=output)[0]\n",
    "\n",
    "# Pick gear_3\n",
    "rm.pick_part(grasp=gear_3_grasp, approach_dist=search_height, force_limit=None)\n",
    "\n",
    "# Move above base\n",
    "rm.move_tcp_over_pose(peg_3_pose, 0.01, rotate=True)\n",
    "\n",
    "\n",
    "# Assemble gear 1\n",
    "rm.insert_part_spiral_record( touch_force = 0.6 , drop_force = 0.4 , insert_force = 2 , max_movement = 0.3 , \n",
    "                              lateralStopTorque = 0.9 , \n",
    "                              outPath = \"insert_part_spiral_record.txt\", output=False)\n",
    "# Open gripper\n",
    "rm.set_gripper_width(0.09)\n",
    "\n",
    "# Rotate gripper to align gears\n",
    "rm.move_tcp_over_pose(peg_3_pose, -0.01, rotate=True)\n",
    "rm.close_gripper()\n",
    "rm.rotate_joint(45,joint=5)\n",
    "rm.rotate_joint(-45,joint=5)\n",
    "rm.rotate_joint(45,joint=5)\n",
    "rm.rotate_joint(-45,joint=5)\n",
    "rm.set_gripper_width(0.03)\n",
    "\n",
    "# Move above base\n",
    "rm.move_tcp_over_pose(peg_3_pose, search_height)\n",
    "\n",
    "# Move to start position\n",
    "rm.movej(start_view)\n",
    "rm.open_gripper()"
   ]
  },
  {
   "cell_type": "code",
   "execution_count": null,
   "metadata": {},
   "outputs": [],
   "source": []
  }
 ],
 "metadata": {
  "kernelspec": {
   "display_name": "Python 3",
   "language": "python",
   "name": "python3"
  },
  "language_info": {
   "codemirror_mode": {
    "name": "ipython",
    "version": 3
   },
   "file_extension": ".py",
   "mimetype": "text/x-python",
   "name": "python",
   "nbconvert_exporter": "python",
   "pygments_lexer": "ipython3",
   "version": "3.5.2"
  }
 },
 "nbformat": 4,
 "nbformat_minor": 4
}
