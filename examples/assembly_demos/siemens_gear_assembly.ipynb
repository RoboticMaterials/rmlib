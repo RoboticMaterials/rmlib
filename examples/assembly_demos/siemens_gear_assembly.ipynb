{
 "cells": [
  {
   "cell_type": "code",
   "execution_count": 2,
   "metadata": {},
   "outputs": [
    {
     "name": "stdout",
     "output_type": "stream",
     "text": [
      "Robot Ready\n",
      "Feature Dictionary Loaded\n"
     ]
    }
   ],
   "source": [
    "#Imports\n",
    "import rmlib\n",
    "import numpy as np\n",
    "\n",
    "rm = rmlib.RMLib()\n",
    "\n",
    "feature_dictionary = rm.load_feature_dictionary(\"siemens_gear_assembly_features\")"
   ]
  },
  {
   "cell_type": "markdown",
   "metadata": {},
   "source": [
    "# Gear 1 Assembly"
   ]
  },
  {
   "cell_type": "code",
   "execution_count": 2,
   "metadata": {},
   "outputs": [
    {
     "data": {
      "text/plain": [
       "1"
      ]
     },
     "execution_count": 2,
     "metadata": {},
     "output_type": "execute_result"
    }
   ],
   "source": [
    "#Move to safe position above mat\n",
    "rm.movej(feature_dictionary['safe']['pose'])\n",
    "rm.open_gripper()\n",
    "\n",
    "#Refine location\n",
    "refined_base_1 = rm.refine_cloud_location(feature_dictionary['base_1'],output=False)\n",
    "\n",
    "#Move to safe position above mat\n",
    "rm.movej(feature_dictionary['safe']['pose'])\n",
    "rm.open_gripper()\n",
    "\n",
    "#Refine location\n",
    "refined_gear_1 = rm.refine_circle_location(feature_dictionary['gear_1'], output=False)\n",
    "\n",
    "#Pick up gear_1\n",
    "rm.pick_part(refined_gear_1, 0.06, finger_width = 0.07, offset=0.015)\n",
    "\n",
    "#Move to safe position above mat\n",
    "rm.movej(feature_dictionary['safe']['pose'])\n",
    "\n",
    "#Lock rotation\n",
    "temp = rm.get_tcp_pose()\n",
    "refined_base_1[3:] = temp[3:]\n",
    "\n",
    "#Insert gear\n",
    "part_offset = 0.004\n",
    "rm.insert_part_tilt(refined_base_1, 0.01, tilt_angle=10, part_offset=part_offset, dia=0.013)\n",
    "rm.set_gripper_width(0.07)\n",
    "rm.movej(feature_dictionary['safe']['pose'])"
   ]
  },
  {
   "cell_type": "markdown",
   "metadata": {},
   "source": [
    "# Shaft 2 Assembly"
   ]
  },
  {
   "cell_type": "code",
   "execution_count": 3,
   "metadata": {},
   "outputs": [
    {
     "data": {
      "text/plain": [
       "1"
      ]
     },
     "execution_count": 3,
     "metadata": {},
     "output_type": "execute_result"
    }
   ],
   "source": [
    "#Move to safe position above mat\n",
    "rm.movej(feature_dictionary['safe']['pose'])\n",
    "rm.open_gripper()\n",
    "\n",
    "#Refine location\n",
    "refined_base_2a = rm.refine_circle_location(feature_dictionary['base_2a'], output=False)\n",
    "\n",
    "#Move to safe position above mat\n",
    "rm.movej(feature_dictionary['safe']['pose'])\n",
    "\n",
    "#Refine location\n",
    "refined_shaft_2 = rm.refine_cloud_location(feature_dictionary['shaft_2'], output=False)\n",
    "\n",
    "#Pick up shaft_2\n",
    "rm.pick_part(refined_shaft_2, 0.04, finger_width = 0.04, offset=0.02)\n",
    "\n",
    "#Move to safe position above mat\n",
    "rm.zero_wrist()\n",
    "\n",
    "rm.movej(feature_dictionary['safe']['pose'])\n",
    "\n",
    "#Insert shaft_2\n",
    "part_offset = 0.036\n",
    "rm.insert_part_tilt(refined_base_2a, 0.04, tilt_angle=20, part_offset=part_offset,touch_force=3,dia=0.008)\n",
    "rm.open_gripper()\n",
    "rm.movej(feature_dictionary['safe']['pose'])"
   ]
  },
  {
   "cell_type": "markdown",
   "metadata": {},
   "source": [
    "# Gear 2 Assembly"
   ]
  },
  {
   "cell_type": "code",
   "execution_count": 3,
   "metadata": {},
   "outputs": [
    {
     "data": {
      "text/plain": [
       "1"
      ]
     },
     "execution_count": 3,
     "metadata": {},
     "output_type": "execute_result"
    }
   ],
   "source": [
    "#Refine location\n",
    "refined_base_2b = rm.refine_cloud_location(feature_dictionary['base_2b'], output=False)\n",
    "\n",
    "rm.movej(feature_dictionary['safe']['pose'])\n",
    "\n",
    "#Refine gear_2 location\n",
    "refined_gear_2 = rm.refine_circle_location(feature_dictionary['gear_2'],output=False)\n",
    "\n",
    "#Pick up gear_3\n",
    "rm.pick_part(refined_gear_2, 0.04, finger_width = 0.038, offset=0.010)\n",
    "\n",
    "#Move to safe position above mat\n",
    "rm.movej(feature_dictionary['safe']['pose'])\n",
    "\n",
    "temp = rm.get_tcp_pose()\n",
    "refined_base_2b[3:] = temp[3:]\n",
    "\n",
    "rm.insert_part_spiral(refined_base_2b, 0.01, touch_force=2, drop_force = 2, insert_force=2)\n",
    "\n",
    "rm.set_gripper_width(0.038)\n",
    "rm.movej(np.add(refined_base_2b,[0,0,-0.01,0,0,0]))\n",
    "\n",
    "rm.close_gripper()\n",
    "rm.rotate_wrist(40)\n",
    "rm.rotate_wrist(-40)\n",
    "rm.set_gripper_width(0.038)\n",
    "rm.movej(np.add(refined_base_2b,[0,0,0.01,0,0,0]))\n",
    "\n",
    "rm.movej(feature_dictionary['safe']['pose'])"
   ]
  },
  {
   "cell_type": "markdown",
   "metadata": {
    "toc-hr-collapsed": true
   },
   "source": [
    "# Shaft 3 Assembly"
   ]
  },
  {
   "cell_type": "code",
   "execution_count": 5,
   "metadata": {},
   "outputs": [
    {
     "data": {
      "text/plain": [
       "0"
      ]
     },
     "execution_count": 5,
     "metadata": {},
     "output_type": "execute_result"
    }
   ],
   "source": [
    "#Move to safe position above mat\n",
    "rm.movej(feature_dictionary['safe']['pose'])\n",
    "rm.open_gripper()\n",
    "\n",
    "#Refine location\n",
    "refined_base_1a = rm.refine_circle_location(feature_dictionary['base_3a'], output=False)\n",
    "\n",
    "#Move to safe position above mat\n",
    "rm.movej(feature_dictionary['safe']['pose'])\n",
    "\n",
    "#Refine location\n",
    "refined_shaft_1 = rm.refine_cloud_location(feature_dictionary['shaft_3'], output=False)\n",
    "\n",
    "#Pick up shaft_1\n",
    "rm.pick_part(refined_shaft_1, 0.04, finger_width = 0.04, offset=0.02)\n",
    "\n",
    "#Move to safe position above mat\n",
    "rm.zero_wrist()\n",
    "rm.movej(feature_dictionary['safe']['pose'])\n",
    "\n",
    "#Insert shaft_1\n",
    "part_offset = 0.036\n",
    "rm.insert_part_tilt(refined_base_1a, 0.04, tilt_angle=20, part_offset=part_offset,touch_force=3,dia=0.005)\n",
    "rm.open_gripper()"
   ]
  },
  {
   "cell_type": "markdown",
   "metadata": {},
   "source": [
    "# Gear 3 Assembly"
   ]
  },
  {
   "cell_type": "code",
   "execution_count": 7,
   "metadata": {},
   "outputs": [
    {
     "data": {
      "text/plain": [
       "1"
      ]
     },
     "execution_count": 7,
     "metadata": {},
     "output_type": "execute_result"
    }
   ],
   "source": [
    "#Move to safe position above mat\n",
    "rm.movej(feature_dictionary['safe']['pose'])\n",
    "\n",
    "#Refine location\n",
    "refined_base_1b = rm.refine_cloud_location(feature_dictionary['base_3b'], output=False)\n",
    "\n",
    "#Move to safe position above mat\n",
    "rm.movej(feature_dictionary['safe']['pose'])\n",
    "\n",
    "#Refine location\n",
    "refined_gear_1 = rm.refine_cloud_location(feature_dictionary['gear_3'], output=False)\n",
    "\n",
    "temp = rm.get_tcp_pose()\n",
    "refined_gear_1[3:] = temp[3:]\n",
    "\n",
    "#Pick up gear_1\n",
    "rm.pick_part(refined_gear_1, 0.04, finger_width = 0.070, offset=0.015)\n",
    "\n",
    "#Move to safe position above mat\n",
    "rm.movej(feature_dictionary['safe']['pose'])\n",
    "\n",
    "#Lock rotation\n",
    "temp = rm.get_tcp_pose()\n",
    "refined_base_1b[3:] = temp[3:]\n",
    "\n",
    "#Insert gear_1\n",
    "rm.insert_part_spiral(refined_base_1b, 0.01, touch_force=0.5, drop_force = 0.3, insert_force=2)\n",
    "rm.set_gripper_width(0.060)\n",
    "rm.movej(np.add(refined_base_1b,[0,0,-0.01,0,0,0]))\n",
    "\n",
    "rm.close_gripper()\n",
    "rm.rotate_wrist(40)\n",
    "rm.rotate_wrist(-40)\n",
    "rm.open_gripper()\n",
    "rm.movej(np.add(refined_base_1b,[0,0,0.01,0,0,0]))\n",
    "\n",
    "#Move to safe position above mat\n",
    "rm.movej(feature_dictionary['safe']['pose'])"
   ]
  },
  {
   "cell_type": "code",
   "execution_count": null,
   "metadata": {},
   "outputs": [],
   "source": []
  }
 ],
 "metadata": {
  "kernelspec": {
   "display_name": "Python 3",
   "language": "python",
   "name": "python3"
  },
  "language_info": {
   "codemirror_mode": {
    "name": "ipython",
    "version": 3
   },
   "file_extension": ".py",
   "mimetype": "text/x-python",
   "name": "python",
   "nbconvert_exporter": "python",
   "pygments_lexer": "ipython3",
   "version": "3.5.2"
  }
 },
 "nbformat": 4,
 "nbformat_minor": 2
}
