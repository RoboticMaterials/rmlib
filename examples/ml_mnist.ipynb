{
 "cells": [
  {
   "cell_type": "markdown",
   "metadata": {},
   "source": [
    "<h1>Classifying hand-written digits from the MNIST database</h1>\n",
    "\n",
    "This is an example from the book \"Deep Learning with Keras\" by Antonio Culli and Sujit Pal. We are training a simple neural network with two hidden layers with dropout achieving better than 97% accuracy. "
   ]
  },
  {
   "cell_type": "code",
   "execution_count": 1,
   "metadata": {},
   "outputs": [
    {
     "name": "stderr",
     "output_type": "stream",
     "text": [
      "Using TensorFlow backend.\n"
     ]
    }
   ],
   "source": [
    "import numpy as np\n",
    "from keras.datasets import mnist\n",
    "from keras.models import Sequential\n",
    "from keras.layers.core import Dense, Dropout, Activation\n",
    "from keras.optimizers import SGD, RMSprop, Adam\n",
    "from keras import regularizers\n",
    "from keras.utils import np_utils\n",
    "\n",
    "np.random.seed(1671)"
   ]
  },
  {
   "cell_type": "code",
   "execution_count": 2,
   "metadata": {},
   "outputs": [],
   "source": [
    "NB_EPOCH = 20\n",
    "BATCH_SIZE = 128\n",
    "VERBOSE = 1\n",
    "NB_CLASSES = 10\n",
    "OPTIMIZER = Adam() #RMSprop() #SGD()\n",
    "N_HIDDEN = 128\n",
    "VALIDATION_SPLIT = 0.2\n",
    "\n",
    "(X_train, y_train), (X_test, y_test) = mnist.load_data()"
   ]
  },
  {
   "cell_type": "code",
   "execution_count": 3,
   "metadata": {},
   "outputs": [
    {
     "name": "stdout",
     "output_type": "stream",
     "text": [
      "Populating the interactive namespace from numpy and matplotlib\n"
     ]
    },
    {
     "data": {
      "image/png": "[encoded data removed]",
      "text/plain": [
       "<Figure size 432x288 with 10 Axes>"
      ]
     },
     "metadata": {},
     "output_type": "display_data"
    }
   ],
   "source": [
    "%pylab inline\n",
    "import matplotlib.pyplot as plt\n",
    "\n",
    "for x in range(10):\n",
    "    plt.subplot(1,10,x+1)\n",
    "    plt.imshow(X_train[x].reshape(28,28))\n",
    "plt.show()"
   ]
  },
  {
   "cell_type": "code",
   "execution_count": 4,
   "metadata": {},
   "outputs": [
    {
     "name": "stdout",
     "output_type": "stream",
     "text": [
      "60000 training samples\n",
      "10000 test samples\n"
     ]
    }
   ],
   "source": [
    "RESHAPED = 784\n",
    "X_train = X_train.reshape(60000, RESHAPED)\n",
    "X_test = X_test.reshape(10000, RESHAPED)\n",
    "\n",
    "X_train = X_train.astype('float32')\n",
    "X_test = X_test.astype('float32')\n",
    "\n",
    "X_train /= 255\n",
    "X_test /= 255\n",
    "\n",
    "print(X_train.shape[0],'training samples')\n",
    "print(X_test.shape[0],'test samples')\n",
    "\n",
    "Y_train = np_utils.to_categorical(y_train, NB_CLASSES)\n",
    "Y_test = np_utils.to_categorical(y_test, NB_CLASSES)"
   ]
  },
  {
   "cell_type": "code",
   "execution_count": 5,
   "metadata": {},
   "outputs": [],
   "source": [
    "model = Sequential()\n",
    "model.add(Dense(N_HIDDEN, input_shape=(RESHAPED,)))\n",
    "model.add(Activation('relu'))\n",
    "model.add(Dropout(0.3))\n",
    "model.add(Dense(N_HIDDEN, kernel_regularizer=regularizers.l2(0.01)))\n",
    "model.add(Activation('relu'))\n",
    "model.add(Dropout(0.3))\n",
    "model.add(Dense(NB_CLASSES))\n",
    "model.add(Activation('softmax'))\n",
    "#model.summary()\n",
    "model.compile(loss='categorical_crossentropy',optimizer=OPTIMIZER, metrics=['accuracy'])"
   ]
  },
  {
   "cell_type": "code",
   "execution_count": 6,
   "metadata": {},
   "outputs": [
    {
     "name": "stdout",
     "output_type": "stream",
     "text": [
      "Train on 48000 samples, validate on 12000 samples\n",
      "Epoch 1/20\n",
      "48000/48000 [==============================] - 2s 33us/step - loss: 0.9630 - acc: 0.8327 - val_loss: 0.3616 - val_acc: 0.9365\n",
      "Epoch 2/20\n",
      "48000/48000 [==============================] - 1s 23us/step - loss: 0.3731 - acc: 0.9178 - val_loss: 0.2523 - val_acc: 0.9487\n",
      "Epoch 3/20\n",
      "48000/48000 [==============================] - 1s 23us/step - loss: 0.2956 - acc: 0.9335 - val_loss: 0.2143 - val_acc: 0.9564\n",
      "Epoch 4/20\n",
      "48000/48000 [==============================] - 1s 24us/step - loss: 0.2619 - acc: 0.9409 - val_loss: 0.1903 - val_acc: 0.9611\n",
      "Epoch 5/20\n",
      "48000/48000 [==============================] - 1s 24us/step - loss: 0.2303 - acc: 0.9491 - val_loss: 0.1803 - val_acc: 0.9627\n",
      "Epoch 6/20\n",
      "48000/48000 [==============================] - 1s 26us/step - loss: 0.2142 - acc: 0.9522 - val_loss: 0.1631 - val_acc: 0.9672\n",
      "Epoch 7/20\n",
      "48000/48000 [==============================] - 1s 26us/step - loss: 0.1986 - acc: 0.9561 - val_loss: 0.1526 - val_acc: 0.9702\n",
      "Epoch 8/20\n",
      "48000/48000 [==============================] - 1s 24us/step - loss: 0.1844 - acc: 0.9595 - val_loss: 0.1512 - val_acc: 0.9677\n",
      "Epoch 9/20\n",
      "48000/48000 [==============================] - 1s 24us/step - loss: 0.1758 - acc: 0.9611 - val_loss: 0.1441 - val_acc: 0.9705\n",
      "Epoch 10/20\n",
      "48000/48000 [==============================] - 1s 24us/step - loss: 0.1681 - acc: 0.9637 - val_loss: 0.1361 - val_acc: 0.9736\n",
      "Epoch 11/20\n",
      "48000/48000 [==============================] - 1s 24us/step - loss: 0.1596 - acc: 0.9653 - val_loss: 0.1338 - val_acc: 0.9726\n",
      "Epoch 12/20\n",
      "48000/48000 [==============================] - 1s 24us/step - loss: 0.1557 - acc: 0.9652 - val_loss: 0.1343 - val_acc: 0.9730\n",
      "Epoch 13/20\n",
      "48000/48000 [==============================] - 1s 24us/step - loss: 0.1493 - acc: 0.9673 - val_loss: 0.1323 - val_acc: 0.9734\n",
      "Epoch 14/20\n",
      "48000/48000 [==============================] - 1s 25us/step - loss: 0.1454 - acc: 0.9686 - val_loss: 0.1313 - val_acc: 0.9735\n",
      "Epoch 15/20\n",
      "48000/48000 [==============================] - 1s 25us/step - loss: 0.1433 - acc: 0.9691 - val_loss: 0.1363 - val_acc: 0.9725\n",
      "Epoch 16/20\n",
      "48000/48000 [==============================] - 1s 25us/step - loss: 0.1366 - acc: 0.9706 - val_loss: 0.1266 - val_acc: 0.9753\n",
      "Epoch 17/20\n",
      "48000/48000 [==============================] - 1s 24us/step - loss: 0.1320 - acc: 0.9715 - val_loss: 0.1245 - val_acc: 0.9732\n",
      "Epoch 18/20\n",
      "48000/48000 [==============================] - 1s 25us/step - loss: 0.1311 - acc: 0.9720 - val_loss: 0.1241 - val_acc: 0.9739\n",
      "Epoch 19/20\n",
      "48000/48000 [==============================] - 1s 25us/step - loss: 0.1265 - acc: 0.9737 - val_loss: 0.1281 - val_acc: 0.9753\n",
      "Epoch 20/20\n",
      "48000/48000 [==============================] - 1s 24us/step - loss: 0.1251 - acc: 0.9734 - val_loss: 0.1239 - val_acc: 0.9753\n"
     ]
    }
   ],
   "source": [
    "history = model.fit(X_train, Y_train, \n",
    "                    batch_size=BATCH_SIZE, epochs=NB_EPOCH,verbose=VERBOSE, validation_split=VALIDATION_SPLIT)"
   ]
  },
  {
   "cell_type": "code",
   "execution_count": 7,
   "metadata": {},
   "outputs": [
    {
     "name": "stdout",
     "output_type": "stream",
     "text": [
      "10000/10000 [==============================] - 0s 22us/step\n",
      "Test score:  0.11891459102630615\n",
      "Accuracy:  0.9766\n"
     ]
    }
   ],
   "source": [
    "score=model.evaluate(X_test, Y_test, verbose=VERBOSE)\n",
    "print('Test score: ',score[0])\n",
    "print('Accuracy: ',score[1])"
   ]
  },
  {
   "cell_type": "code",
   "execution_count": null,
   "metadata": {},
   "outputs": [],
   "source": []
  }
 ],
 "metadata": {
  "kernelspec": {
   "display_name": "Python 3",
   "language": "python",
   "name": "python3"
  },
  "language_info": {
   "codemirror_mode": {
    "name": "ipython",
    "version": 3
   },
   "file_extension": ".py",
   "mimetype": "text/x-python",
   "name": "python",
   "nbconvert_exporter": "python",
   "pygments_lexer": "ipython3",
   "version": "3.6.5"
  }
 },
 "nbformat": 4,
 "nbformat_minor": 2
}
