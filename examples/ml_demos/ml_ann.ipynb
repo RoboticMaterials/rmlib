{
 "cells": [
  {
   "cell_type": "markdown",
   "metadata": {},
   "source": [
    "<h1>ML Artificial Neural Network Example</h1>\n",
    "This example demonstrates classification of time-series data from the force-torque sensor to detect grasping failure. The data is taken from the <a href=\"https://archive.ics.uci.edu/ml/datasets/Robot+Execution+Failures\">Robot execution failures</a> dataset. It consists of 87 labeled instances of sequences of 15 F/T measurements and class labels.\n",
    "\n",
    "The data is parsed into a pandas dataframe, broken into training and test set, and run through a random forest regressor from sklearn. \n"
   ]
  },
  {
   "cell_type": "code",
   "execution_count": 113,
   "metadata": {},
   "outputs": [],
   "source": [
    "# Import data processing tools\n",
    "import pandas as pd\n",
    "\n",
    "import matplotlib.pyplot as plt\n",
    "%matplotlib ipympl\n",
    "\n",
    "import numpy as np\n",
    "\n",
    "# Import ML tools\n",
    "from sklearn.model_selection import train_test_split\n",
    "from keras.models import Sequential\n",
    "from keras.layers.core import Dense, Dropout, Activation\n",
    "from keras.optimizers import Adam\n",
    "from keras import regularizers\n",
    "from keras.utils import np_utils\n",
    "\n",
    "# Import tools needed for visualization\n",
    "from IPython.display import Image, display\n"
   ]
  },
  {
   "cell_type": "markdown",
   "metadata": {},
   "source": [
    "The dataset consists of time series of 6-DoF force/torque measurements that are labeled with success ('normal') or failure ('obstruction', 'collision', 'fr_collision'). The raw data can be inspected <a href=\"https://archive.ics.uci.edu/ml/machine-learning-databases/robotfailure-mld/lp1.data\">here</a> and needs to be converted in table format. <br><br>\n",
    "The code for parsing the data has been adopted from a <a href=\"https://tsfresh.readthedocs.io/en/latest/_modules/tsfresh/examples/robot_execution_failures.html\">tsfresh tutorial</a>. It proceeds by reading the data file line by line and storing an entire time series in a single row. Sucess and the various failure modes are coded as a boolean value. "
   ]
  },
  {
   "cell_type": "code",
   "execution_count": 114,
   "metadata": {},
   "outputs": [],
   "source": [
    "    id_to_target = {}\n",
    "    df_rows = []\n",
    "    df_block = []\n",
    "\n",
    "    with open('data/lp1.data') as f:\n",
    "        cur_id = 0\n",
    "        time = 0\n",
    "\n",
    "        for line in f.readlines():\n",
    "            # New sample --> increase id, reset time and determine target\n",
    "            if line[0] not in ['\\t', '\\n']:               \n",
    "                time = 0\n",
    "                #id_to_target[cur_id] = line.strip()\n",
    "                id_to_target[cur_id] = (line.strip()=='normal')\n",
    "                if(df_block): \n",
    "                    df_rows.append(np.array(df_block).reshape(1,90)[0].tolist())\n",
    "                df_block = []\n",
    "                cur_id += 1\n",
    "            # Data row --> split and convert values, create complete df row\n",
    "            elif line[0] == '\\t':\n",
    "                values = list(map(int, line.split('\\t')[1:]))\n",
    "                #df_rows.append([cur_id, time] + values)\n",
    "                df_block.append(values)\n",
    "                time += 1\n",
    "        df_rows.append(np.array(df_block).reshape(1,90)[0].tolist())\n",
    "\n",
    "    columns=[]\n",
    "    for i in range(0,15):\n",
    "        columns=columns+['F_x'+str(i), 'F_y'+str(i), 'F_z'+str(i), 'T_x'+str(i), 'T_y'+str(i), 'T_z'+str(i)]\n",
    "    \n",
    "    df = pd.DataFrame(df_rows, columns=columns) # Store all data in a Pandas dataframe\n",
    "    y = pd.Series(id_to_target) # Store all class labels in a Pandas series"
   ]
  },
  {
   "cell_type": "code",
   "execution_count": 115,
   "metadata": {},
   "outputs": [
    {
     "data": {
      "text/html": [
       "<div>\n",
       "<style scoped>\n",
       "    .dataframe tbody tr th:only-of-type {\n",
       "        vertical-align: middle;\n",
       "    }\n",
       "\n",
       "    .dataframe tbody tr th {\n",
       "        vertical-align: top;\n",
       "    }\n",
       "\n",
       "    .dataframe thead th {\n",
       "        text-align: right;\n",
       "    }\n",
       "</style>\n",
       "<table border=\"1\" class=\"dataframe\">\n",
       "  <thead>\n",
       "    <tr style=\"text-align: right;\">\n",
       "      <th></th>\n",
       "      <th>F_x0</th>\n",
       "      <th>F_y0</th>\n",
       "      <th>F_z0</th>\n",
       "      <th>T_x0</th>\n",
       "      <th>T_y0</th>\n",
       "      <th>T_z0</th>\n",
       "      <th>F_x1</th>\n",
       "      <th>F_y1</th>\n",
       "      <th>F_z1</th>\n",
       "      <th>T_x1</th>\n",
       "      <th>...</th>\n",
       "      <th>F_z13</th>\n",
       "      <th>T_x13</th>\n",
       "      <th>T_y13</th>\n",
       "      <th>T_z13</th>\n",
       "      <th>F_x14</th>\n",
       "      <th>F_y14</th>\n",
       "      <th>F_z14</th>\n",
       "      <th>T_x14</th>\n",
       "      <th>T_y14</th>\n",
       "      <th>T_z14</th>\n",
       "    </tr>\n",
       "  </thead>\n",
       "  <tbody>\n",
       "    <tr>\n",
       "      <th>83</th>\n",
       "      <td>-29</td>\n",
       "      <td>-10</td>\n",
       "      <td>-208</td>\n",
       "      <td>180</td>\n",
       "      <td>12</td>\n",
       "      <td>-11</td>\n",
       "      <td>-29</td>\n",
       "      <td>-4</td>\n",
       "      <td>-246</td>\n",
       "      <td>192</td>\n",
       "      <td>...</td>\n",
       "      <td>-918</td>\n",
       "      <td>396</td>\n",
       "      <td>101</td>\n",
       "      <td>-23</td>\n",
       "      <td>-105</td>\n",
       "      <td>63</td>\n",
       "      <td>-912</td>\n",
       "      <td>394</td>\n",
       "      <td>100</td>\n",
       "      <td>-25</td>\n",
       "    </tr>\n",
       "    <tr>\n",
       "      <th>84</th>\n",
       "      <td>4</td>\n",
       "      <td>6</td>\n",
       "      <td>50</td>\n",
       "      <td>-25</td>\n",
       "      <td>1</td>\n",
       "      <td>0</td>\n",
       "      <td>4</td>\n",
       "      <td>8</td>\n",
       "      <td>44</td>\n",
       "      <td>-26</td>\n",
       "      <td>...</td>\n",
       "      <td>4</td>\n",
       "      <td>-46</td>\n",
       "      <td>14</td>\n",
       "      <td>-7</td>\n",
       "      <td>19</td>\n",
       "      <td>14</td>\n",
       "      <td>2</td>\n",
       "      <td>-42</td>\n",
       "      <td>10</td>\n",
       "      <td>-7</td>\n",
       "    </tr>\n",
       "    <tr>\n",
       "      <th>85</th>\n",
       "      <td>21</td>\n",
       "      <td>15</td>\n",
       "      <td>-14</td>\n",
       "      <td>-46</td>\n",
       "      <td>16</td>\n",
       "      <td>-7</td>\n",
       "      <td>23</td>\n",
       "      <td>18</td>\n",
       "      <td>-27</td>\n",
       "      <td>-49</td>\n",
       "      <td>...</td>\n",
       "      <td>-346</td>\n",
       "      <td>-88</td>\n",
       "      <td>154</td>\n",
       "      <td>4</td>\n",
       "      <td>148</td>\n",
       "      <td>69</td>\n",
       "      <td>-411</td>\n",
       "      <td>-95</td>\n",
       "      <td>191</td>\n",
       "      <td>8</td>\n",
       "    </tr>\n",
       "    <tr>\n",
       "      <th>86</th>\n",
       "      <td>171</td>\n",
       "      <td>86</td>\n",
       "      <td>-486</td>\n",
       "      <td>-113</td>\n",
       "      <td>222</td>\n",
       "      <td>13</td>\n",
       "      <td>198</td>\n",
       "      <td>96</td>\n",
       "      <td>-566</td>\n",
       "      <td>-125</td>\n",
       "      <td>...</td>\n",
       "      <td>-1036</td>\n",
       "      <td>-118</td>\n",
       "      <td>466</td>\n",
       "      <td>44</td>\n",
       "      <td>342</td>\n",
       "      <td>154</td>\n",
       "      <td>-1036</td>\n",
       "      <td>-118</td>\n",
       "      <td>466</td>\n",
       "      <td>44</td>\n",
       "    </tr>\n",
       "    <tr>\n",
       "      <th>87</th>\n",
       "      <td>-6</td>\n",
       "      <td>3</td>\n",
       "      <td>52</td>\n",
       "      <td>-15</td>\n",
       "      <td>-17</td>\n",
       "      <td>3</td>\n",
       "      <td>-7</td>\n",
       "      <td>2</td>\n",
       "      <td>52</td>\n",
       "      <td>-17</td>\n",
       "      <td>...</td>\n",
       "      <td>26</td>\n",
       "      <td>-29</td>\n",
       "      <td>-27</td>\n",
       "      <td>5</td>\n",
       "      <td>-13</td>\n",
       "      <td>2</td>\n",
       "      <td>15</td>\n",
       "      <td>-25</td>\n",
       "      <td>-25</td>\n",
       "      <td>6</td>\n",
       "    </tr>\n",
       "  </tbody>\n",
       "</table>\n",
       "<p>5 rows × 90 columns</p>\n",
       "</div>"
      ],
      "text/plain": [
       "    F_x0  F_y0  F_z0  T_x0  T_y0  T_z0  F_x1  F_y1  F_z1  T_x1  ...    F_z13  \\\n",
       "83   -29   -10  -208   180    12   -11   -29    -4  -246   192  ...     -918   \n",
       "84     4     6    50   -25     1     0     4     8    44   -26  ...        4   \n",
       "85    21    15   -14   -46    16    -7    23    18   -27   -49  ...     -346   \n",
       "86   171    86  -486  -113   222    13   198    96  -566  -125  ...    -1036   \n",
       "87    -6     3    52   -15   -17     3    -7     2    52   -17  ...       26   \n",
       "\n",
       "    T_x13  T_y13  T_z13  F_x14  F_y14  F_z14  T_x14  T_y14  T_z14  \n",
       "83    396    101    -23   -105     63   -912    394    100    -25  \n",
       "84    -46     14     -7     19     14      2    -42     10     -7  \n",
       "85    -88    154      4    148     69   -411    -95    191      8  \n",
       "86   -118    466     44    342    154  -1036   -118    466     44  \n",
       "87    -29    -27      5    -13      2     15    -25    -25      6  \n",
       "\n",
       "[5 rows x 90 columns]"
      ]
     },
     "execution_count": 115,
     "metadata": {},
     "output_type": "execute_result"
    }
   ],
   "source": [
    "df.tail()"
   ]
  },
  {
   "cell_type": "code",
   "execution_count": 116,
   "metadata": {},
   "outputs": [
    {
     "data": {
      "text/plain": [
       "0    True\n",
       "1    True\n",
       "2    True\n",
       "3    True\n",
       "4    True\n",
       "dtype: bool"
      ]
     },
     "execution_count": 116,
     "metadata": {},
     "output_type": "execute_result"
    }
   ],
   "source": [
    "y.head()"
   ]
  },
  {
   "cell_type": "code",
   "execution_count": 117,
   "metadata": {},
   "outputs": [],
   "source": [
    "labels=y\n",
    "features=np.array(df).astype(int)\n",
    "feature_list=list(df.columns)\n",
    "\n",
    "labels=labels.astype(int)\n",
    "categorical_labels = np_utils.to_categorical(labels, num_classes=2).astype(int)\n"
   ]
  },
  {
   "cell_type": "code",
   "execution_count": 118,
   "metadata": {},
   "outputs": [
    {
     "data": {
      "text/plain": [
       "array([[1, 0],\n",
       "       [1, 0],\n",
       "       [1, 0],\n",
       "       [1, 0],\n",
       "       [1, 0],\n",
       "       [0, 1],\n",
       "       [1, 0],\n",
       "       [1, 0],\n",
       "       [0, 1],\n",
       "       [1, 0],\n",
       "       [1, 0],\n",
       "       [1, 0],\n",
       "       [1, 0],\n",
       "       [1, 0],\n",
       "       [1, 0],\n",
       "       [1, 0],\n",
       "       [0, 1],\n",
       "       [1, 0],\n",
       "       [1, 0],\n",
       "       [0, 1],\n",
       "       [1, 0],\n",
       "       [1, 0]])"
      ]
     },
     "execution_count": 118,
     "metadata": {},
     "output_type": "execute_result"
    }
   ],
   "source": [
    "Y_test.astype(int)"
   ]
  },
  {
   "cell_type": "code",
   "execution_count": 119,
   "metadata": {},
   "outputs": [],
   "source": [
    "X_train, X_test, Y_train, Y_test = train_test_split(features, categorical_labels, test_size = 0.25)"
   ]
  },
  {
   "cell_type": "code",
   "execution_count": 120,
   "metadata": {},
   "outputs": [],
   "source": [
    "NB_EPOCH = 20\n",
    "BATCH_SIZE = 128\n",
    "VERBOSE = 1\n",
    "NB_CLASSES = 2\n",
    "OPTIMIZER = Adam() #RMSprop() #SGD()\n",
    "N_HIDDEN = 64\n",
    "VALIDATION_SPLIT = 0.2\n",
    "\n",
    "model = Sequential()\n",
    "model.add(Dense(N_HIDDEN, input_shape=(90,)))\n",
    "model.add(Activation('relu'))\n",
    "model.add(Dense(N_HIDDEN))\n",
    "model.add(Activation('relu'))\n",
    "model.add(Dense(NB_CLASSES))\n",
    "model.add(Activation('softmax'))\n",
    "#model.summary()\n",
    "model.compile(loss='binary_crossentropy',optimizer=OPTIMIZER, metrics=['accuracy'])\n"
   ]
  },
  {
   "cell_type": "code",
   "execution_count": 121,
   "metadata": {},
   "outputs": [
    {
     "name": "stdout",
     "output_type": "stream",
     "text": [
      "Train on 52 samples, validate on 14 samples\n",
      "Epoch 1/20\n",
      "52/52 [==============================] - 1s 25ms/step - loss: 4.8518 - acc: 0.6731 - val_loss: 4.9680 - val_acc: 0.6429\n",
      "Epoch 2/20\n",
      "52/52 [==============================] - 0s 108us/step - loss: 4.6367 - acc: 0.7115 - val_loss: 4.7170 - val_acc: 0.6429\n",
      "Epoch 3/20\n",
      "52/52 [==============================] - 0s 83us/step - loss: 4.6242 - acc: 0.7115 - val_loss: 4.5914 - val_acc: 0.7143\n",
      "Epoch 4/20\n",
      "52/52 [==============================] - 0s 98us/step - loss: 4.3295 - acc: 0.7115 - val_loss: 4.5805 - val_acc: 0.7143\n",
      "Epoch 5/20\n",
      "52/52 [==============================] - 0s 94us/step - loss: 4.3158 - acc: 0.7308 - val_loss: 4.5801 - val_acc: 0.7143\n",
      "Epoch 6/20\n",
      "52/52 [==============================] - 0s 77us/step - loss: 4.3158 - acc: 0.7308 - val_loss: 4.5801 - val_acc: 0.7143\n",
      "Epoch 7/20\n",
      "52/52 [==============================] - 0s 88us/step - loss: 4.3158 - acc: 0.7308 - val_loss: 4.5801 - val_acc: 0.7143\n",
      "Epoch 8/20\n",
      "52/52 [==============================] - 0s 141us/step - loss: 4.3158 - acc: 0.7308 - val_loss: 4.5801 - val_acc: 0.7143\n",
      "Epoch 9/20\n",
      "52/52 [==============================] - 0s 114us/step - loss: 4.3158 - acc: 0.7308 - val_loss: 4.5801 - val_acc: 0.7143\n",
      "Epoch 10/20\n",
      "52/52 [==============================] - 0s 128us/step - loss: 4.3158 - acc: 0.7308 - val_loss: 4.5801 - val_acc: 0.7143\n",
      "Epoch 11/20\n",
      "52/52 [==============================] - 0s 70us/step - loss: 4.3158 - acc: 0.7308 - val_loss: 4.5801 - val_acc: 0.7143\n",
      "Epoch 12/20\n",
      "52/52 [==============================] - 0s 168us/step - loss: 4.3158 - acc: 0.7308 - val_loss: 4.5801 - val_acc: 0.7143\n",
      "Epoch 13/20\n",
      "52/52 [==============================] - 0s 166us/step - loss: 4.3158 - acc: 0.7308 - val_loss: 4.5801 - val_acc: 0.7143\n",
      "Epoch 14/20\n",
      "52/52 [==============================] - 0s 140us/step - loss: 4.3158 - acc: 0.7308 - val_loss: 4.5801 - val_acc: 0.7143\n",
      "Epoch 15/20\n",
      "52/52 [==============================] - 0s 70us/step - loss: 4.3158 - acc: 0.7308 - val_loss: 4.5801 - val_acc: 0.7143\n",
      "Epoch 16/20\n",
      "52/52 [==============================] - 0s 65us/step - loss: 4.3158 - acc: 0.7308 - val_loss: 4.5801 - val_acc: 0.7143\n",
      "Epoch 17/20\n",
      "52/52 [==============================] - 0s 55us/step - loss: 4.3158 - acc: 0.7308 - val_loss: 4.5801 - val_acc: 0.7143\n",
      "Epoch 18/20\n",
      "52/52 [==============================] - 0s 59us/step - loss: 4.3158 - acc: 0.7308 - val_loss: 4.5801 - val_acc: 0.7143\n",
      "Epoch 19/20\n",
      "52/52 [==============================] - 0s 59us/step - loss: 4.3158 - acc: 0.7308 - val_loss: 4.5801 - val_acc: 0.7143\n",
      "Epoch 20/20\n",
      "52/52 [==============================] - 0s 103us/step - loss: 4.3158 - acc: 0.7308 - val_loss: 4.5801 - val_acc: 0.7143\n"
     ]
    }
   ],
   "source": [
    "history = model.fit(X_train, Y_train, \n",
    "                    batch_size=BATCH_SIZE, epochs=NB_EPOCH,verbose=VERBOSE, validation_split=VALIDATION_SPLIT)"
   ]
  },
  {
   "cell_type": "code",
   "execution_count": 122,
   "metadata": {},
   "outputs": [],
   "source": [
    "predictions = np.round(model.predict(X_test))"
   ]
  },
  {
   "cell_type": "markdown",
   "metadata": {},
   "source": [
    "<h2>Results</h2>\n",
    "We can now compare the predictions made by the random forest with the known labels from the test set and calculate the percentage of errorneous predictions. "
   ]
  },
  {
   "cell_type": "code",
   "execution_count": 123,
   "metadata": {},
   "outputs": [],
   "source": [
    "errors = abs(predictions-Y_test)"
   ]
  },
  {
   "cell_type": "code",
   "execution_count": 124,
   "metadata": {},
   "outputs": [
    {
     "name": "stdout",
     "output_type": "stream",
     "text": [
      "Error:  [13.63636364 13.63636364] %\n"
     ]
    }
   ],
   "source": [
    "print('Error: ',sum(errors)/len(Y_test)*100,'%')"
   ]
  },
  {
   "cell_type": "code",
   "execution_count": null,
   "metadata": {},
   "outputs": [],
   "source": []
  }
 ],
 "metadata": {
  "kernelspec": {
   "display_name": "Python 3",
   "language": "python",
   "name": "python3"
  },
  "language_info": {
   "codemirror_mode": {
    "name": "ipython",
    "version": 3
   },
   "file_extension": ".py",
   "mimetype": "text/x-python",
   "name": "python",
   "nbconvert_exporter": "python",
   "pygments_lexer": "ipython3",
   "version": "3.5.2"
  }
 },
 "nbformat": 4,
 "nbformat_minor": 2
}
