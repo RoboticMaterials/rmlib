{
 "cells": [
  {
   "cell_type": "markdown",
   "metadata": {},
   "source": [
    "<h1>Google Cloud Services Vision API</h1>\n",
    "\n",
    "Make sure you download a JSON file with your service account and set the credential environment variable accordingly.\n",
    "\n",
    "<code>\n",
    "gcloud iam service-accounts create [NAME]\n",
    "\n",
    "gcloud iam service-accounts keys create [FILE_NAME].json --iam-account [NAME]@[PROJECT_ID].iam.gserviceaccount.com\n",
    "    \n",
    "export GOOGLE_APPLICATION_CREDENTIALS=\"/home/user/Downloads/[FILE_NAME].json\"\n",
    "</code>\n",
    "\n",
    "The API reference is available on <a href=\"https://googleapis.github.io/google-cloud-python/latest/vision/index.html\">https://googleapis.github.io/google-cloud-python/latest/vision/index.html</a>"
   ]
  },
  {
   "cell_type": "code",
   "execution_count": 1,
   "metadata": {},
   "outputs": [
    {
     "name": "stdout",
     "output_type": "stream",
     "text": [
      "env: GOOGLE_APPLICATION_CREDENTIALS=/home/nvidia/facedetection-0f7f39f51027.json\n"
     ]
    }
   ],
   "source": [
    "%set_env GOOGLE_APPLICATION_CREDENTIALS=/home/nvidia/facedetection-0f7f39f51027.json"
   ]
  },
  {
   "cell_type": "markdown",
   "metadata": {},
   "source": [
    "<h2>Object Localization</h2>"
   ]
  },
  {
   "cell_type": "code",
   "execution_count": 2,
   "metadata": {},
   "outputs": [
    {
     "ename": "ImportError",
     "evalue": "No module named 'google'",
     "output_type": "error",
     "traceback": [
      "\u001b[0;31m---------------------------------------------------------------------------\u001b[0m",
      "\u001b[0;31mImportError\u001b[0m                               Traceback (most recent call last)",
      "\u001b[0;32m<ipython-input-2-d6e7c9861102>\u001b[0m in \u001b[0;36m<module>\u001b[0;34m\u001b[0m\n\u001b[1;32m      3\u001b[0m \u001b[0;34m\u001b[0m\u001b[0m\n\u001b[1;32m      4\u001b[0m \u001b[0;31m# Imports the Google Cloud client library\u001b[0m\u001b[0;34m\u001b[0m\u001b[0;34m\u001b[0m\u001b[0m\n\u001b[0;32m----> 5\u001b[0;31m \u001b[0;32mfrom\u001b[0m \u001b[0mgoogle\u001b[0m\u001b[0;34m.\u001b[0m\u001b[0mcloud\u001b[0m \u001b[0;32mimport\u001b[0m \u001b[0mvision\u001b[0m\u001b[0;34m\u001b[0m\u001b[0m\n\u001b[0m\u001b[1;32m      6\u001b[0m \u001b[0;32mfrom\u001b[0m \u001b[0mgoogle\u001b[0m\u001b[0;34m.\u001b[0m\u001b[0mcloud\u001b[0m\u001b[0;34m.\u001b[0m\u001b[0mvision\u001b[0m \u001b[0;32mimport\u001b[0m \u001b[0mtypes\u001b[0m\u001b[0;34m\u001b[0m\u001b[0m\n\u001b[1;32m      7\u001b[0m \u001b[0;34m\u001b[0m\u001b[0m\n",
      "\u001b[0;31mImportError\u001b[0m: No module named 'google'"
     ]
    }
   ],
   "source": [
    "import io\n",
    "import os\n",
    "\n",
    "# Imports the Google Cloud client library\n",
    "from google.cloud import vision\n",
    "from google.cloud.vision import types\n",
    "\n",
    "# Instantiates a client\n",
    "client = vision.ImageAnnotatorClient()\n",
    "\n",
    "# The name of the image file to annotate\n",
    "file_name = '/home/nvidia/rmstudio/examples/data/snapshot.png'\n",
    "\n",
    "# Loads the image into memory\n",
    "with io.open(file_name, 'rb') as image_file:\n",
    "    content = image_file.read()\n",
    "\n",
    "image = types.Image(content=content)\n",
    "\n",
    "response = client.object_localization(image=image)"
   ]
  },
  {
   "cell_type": "code",
   "execution_count": 42,
   "metadata": {},
   "outputs": [
    {
     "name": "stdout",
     "output_type": "stream",
     "text": [
      "Objects in this image\n",
      "Bottle (0.85)\n",
      "Bottle (0.72)\n",
      "Kitchenware (0.69)\n",
      "Kitchenware (0.68)\n",
      "Kitchenware (0.68)\n",
      "Bottle (0.58)\n",
      "First objects coordinates:\n",
      "x: 0.0117497518658638\n",
      "y: 0.050269100815057755\n",
      "\n",
      "x: 0.2771914303302765\n",
      "y: 0.050269100815057755\n",
      "\n",
      "x: 0.2771914303302765\n",
      "y: 0.8297309875488281\n",
      "\n",
      "x: 0.0117497518658638\n",
      "y: 0.8297309875488281\n",
      "\n"
     ]
    }
   ],
   "source": [
    "objects=response.localized_object_annotations\n",
    "\n",
    "print(\"Objects in this image\")\n",
    "for object in objects:\n",
    "    print(object.name + \" (\"+\"{0:0.2f}\".format(object.score)+\")\")\n",
    "    \n",
    "print(\"First objects coordinates:\")\n",
    "for point in objects[0].bounding_poly.normalized_vertices:\n",
    "    print(point)"
   ]
  },
  {
   "cell_type": "markdown",
   "metadata": {},
   "source": [
    "<h2>Visualization</h2>"
   ]
  },
  {
   "cell_type": "code",
   "execution_count": null,
   "metadata": {},
   "outputs": [],
   "source": [
    "import numpy as np\n",
    "import cv2\n",
    "from matplotlib import pyplot as plt\n",
    "\n",
    "image."
   ]
  }
 ],
 "metadata": {
  "kernelspec": {
   "display_name": "Python 3",
   "language": "python",
   "name": "python3"
  },
  "language_info": {
   "codemirror_mode": {
    "name": "ipython",
    "version": 3
   },
   "file_extension": ".py",
   "mimetype": "text/x-python",
   "name": "python",
   "nbconvert_exporter": "python",
   "pygments_lexer": "ipython3",
   "version": "3.5.2"
  }
 },
 "nbformat": 4,
 "nbformat_minor": 2
}
