{
 "cells": [
  {
   "cell_type": "code",
   "execution_count": null,
   "metadata": {},
   "outputs": [],
   "source": [
    "import sys\n",
    "sys.path.append('/home/nvidia/dev_rmstudio/lib')\n",
    "\n",
    "import numpy as np\n",
    "import open3d\n",
    "import time\n",
    "import pandas as pd\n",
    "import cv2\n",
    "import matplotlib.pyplot as plt\n",
    "import os\n",
    "    \n",
    "import rmlib\n",
    "rm = rmlib.RMLib()"
   ]
  },
  {
   "cell_type": "code",
   "execution_count": null,
   "metadata": {},
   "outputs": [],
   "source": [
    "# Run this to take a new snapshot from the camera (don't run if you want to use a canned one)\n",
    "rm.set_laser_state(False)\n",
    "rm.set_auto_exposure_on(True)\n",
    "#rm.set_exposure(165000)\n",
    "\n",
    "img = rm.get_ir_image()\n",
    "img = cv2.flip(img,0)\n",
    "img = cv2.flip(img,1)\n",
    "img = np.array(img*255./img.max()).astype(np.uint8)\n",
    "\n",
    "cv2.imwrite('data/snapshot.png',img)\n",
    "\n",
    "view = rm.IR_Viewer()\n",
    "view.add_image(img)\n",
    "view.show()"
   ]
  },
  {
   "cell_type": "code",
   "execution_count": null,
   "metadata": {},
   "outputs": [],
   "source": [
    "orb = cv2.ORB_create()\n",
    "key_points, description = orb.detectAndCompute(img, None)\n",
    "img_keypoints = cv2.drawKeypoints(img, \n",
    "                                key_points, \n",
    "                                img, \n",
    "                                flags=cv2.DRAW_MATCHES_FLAGS_DRAW_RICH_KEYPOINTS) # Draw circles.\n",
    "view = rm.IR_Viewer()\n",
    "view.add_image(img_keypoints)\n",
    "view.show()"
   ]
  },
  {
   "cell_type": "code",
   "execution_count": null,
   "metadata": {},
   "outputs": [],
   "source": [
    "import numpy as np\n",
    "import cv2\n",
    "from matplotlib import pyplot as plt\n",
    "\n",
    "img1 = cv2.imread('data/hagebutte.png', 0).astype(np.uint8)\n",
    "#img2 = img\n",
    "img2 = cv2.imread('data/snapshot.png', 0).astype(np.uint8)\n",
    "\n",
    "# Initiate SIFT detector\n",
    "orb = cv2.ORB_create()\n",
    "\n",
    "# find the keypoints and descriptors with ORB\n",
    "kp1, des1 = orb.detectAndCompute(img1,None)\n",
    "kp2, des2 = orb.detectAndCompute(img2,None)\n",
    "\n",
    "# create BFMatcher object\n",
    "bf = cv2.BFMatcher(cv2.NORM_HAMMING2, crossCheck=True)\n",
    "\n",
    "# Match descriptors.\n",
    "matches = bf.match(des1,des2)\n",
    "\n",
    "# Sort them in the order of their distance.\n",
    "matches = sorted(matches, key = lambda x:x.distance)\n",
    "\n",
    "good_matches = matches[:100]\n",
    "\n",
    "src_pts = np.float32([ kp1[m.queryIdx].pt for m in good_matches     ]).reshape(-1,1,2)\n",
    "dst_pts = np.float32([ kp2[m.trainIdx].pt for m in good_matches ]).reshape(-1,1,2)\n",
    "M, mask = cv2.findHomography(src_pts, dst_pts, cv2.RANSAC,5.0)\n",
    "matchesMask = mask.ravel().tolist()\n",
    "h,w = img1.shape[:2]\n",
    "pts = np.float32([ [0,0],[0,h-1],[w-1,h-1],[w-1,0] ]).reshape(-1,1,2)\n",
    "\n",
    "dst = cv2.perspectiveTransform(pts,M)\n",
    "dst += (w, 0)  # adding offset\n",
    "\n",
    "draw_params = dict(matchColor = (0,255,0), # draw matches in green color\n",
    "               singlePointColor = None,\n",
    "               matchesMask = matchesMask, # draw only inliers\n",
    "               flags = 2)\n",
    "\n",
    "img3 = cv2.drawMatches(img1,kp1,img2,kp2,good_matches, None,**draw_params)\n",
    "\n",
    "img3 = cv2.polylines(img3, [np.int32(dst)], True, (0,0,255),3, cv2.LINE_AA)\n",
    "\n",
    "view = rm.IR_Viewer()\n",
    "view.add_image(img3)\n",
    "view.show()"
   ]
  },
  {
   "cell_type": "code",
   "execution_count": null,
   "metadata": {},
   "outputs": [],
   "source": []
  }
 ],
 "metadata": {
  "kernelspec": {
   "display_name": "Python 3",
   "language": "python",
   "name": "python3"
  },
  "language_info": {
   "codemirror_mode": {
    "name": "ipython",
    "version": 3
   },
   "file_extension": ".py",
   "mimetype": "text/x-python",
   "name": "python",
   "nbconvert_exporter": "python",
   "pygments_lexer": "ipython3",
   "version": "3.5.2"
  }
 },
 "nbformat": 4,
 "nbformat_minor": 2
}
