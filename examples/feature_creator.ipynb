{
 "cells": [
  {
   "cell_type": "markdown",
   "metadata": {},
   "source": [
    "# Imports"
   ]
  },
  {
   "cell_type": "code",
   "execution_count": 1,
   "metadata": {},
   "outputs": [],
   "source": [
    "import pickle\n",
    "import numpy as np\n",
    "import rmlib"
   ]
  },
  {
   "cell_type": "code",
   "execution_count": 2,
   "metadata": {},
   "outputs": [
    {
     "name": "stdout",
     "output_type": "stream",
     "text": [
      "Robot Ready\n"
     ]
    }
   ],
   "source": [
    "rm = rmlib.RMLib()"
   ]
  },
  {
   "cell_type": "markdown",
   "metadata": {},
   "source": [
    "# File Name"
   ]
  },
  {
   "cell_type": "code",
   "execution_count": 21,
   "metadata": {},
   "outputs": [],
   "source": [
    "file_name = \"assembly_features\""
   ]
  },
  {
   "cell_type": "markdown",
   "metadata": {},
   "source": [
    "# Load/Create Dictionary "
   ]
  },
  {
   "cell_type": "code",
   "execution_count": 23,
   "metadata": {},
   "outputs": [
    {
     "name": "stdout",
     "output_type": "stream",
     "text": [
      "File Loaded\n",
      "Dictionary Features:\n",
      "safe:\n",
      "       pose  =  [-0.2875122767581866, -0.048576704794951284, 0.28681665788637356, -2.2215003746228157, 2.2198375308394622, -0.001894878661018758]\n",
      "block_1:\n",
      "       cloud_locator_params  =  [170, 0.0008, 0.0033, 500]\n",
      "       view_distance  =  0.06\n",
      "       pose  =  [-0.33210424881795475, 0.09036874254102065, 0.03680491070259806, -2.2215590912943823, 2.2197782547212523, -0.0017003364767290898]\n"
     ]
    }
   ],
   "source": [
    "try:\n",
    "    with open(file_name, 'rb') as f:\n",
    "        feature_dictionary = pickle.load(f)\n",
    "        print(\"File Loaded\")\n",
    "        print('Dictionary Features:')\n",
    "        for item1 in feature_dictionary:\n",
    "            print(item1+\":\")\n",
    "            for item2 in feature_dictionary[item1]:\n",
    "                print('      ',item2,' = ',feature_dictionary[item1][item2])\n",
    "                \n",
    "except:\n",
    "    print(\"No File Found, Creating New Dictionary\")\n",
    "    feature_dictionary = {}"
   ]
  },
  {
   "cell_type": "markdown",
   "metadata": {},
   "source": [
    "# Create Feature"
   ]
  },
  {
   "cell_type": "code",
   "execution_count": 13,
   "metadata": {},
   "outputs": [],
   "source": [
    "feature_name = \"block_1\"\n",
    "feature_dictionary[feature_name] = {}"
   ]
  },
  {
   "cell_type": "markdown",
   "metadata": {},
   "source": [
    "# Set Global Location"
   ]
  },
  {
   "cell_type": "code",
   "execution_count": 8,
   "metadata": {},
   "outputs": [
    {
     "data": {
      "text/plain": [
       "0"
      ]
     },
     "execution_count": 8,
     "metadata": {},
     "output_type": "execute_result"
    }
   ],
   "source": [
    "rm.close_gripper()"
   ]
  },
  {
   "cell_type": "code",
   "execution_count": 14,
   "metadata": {},
   "outputs": [],
   "source": [
    "rm.align_gripper_with_axis()"
   ]
  },
  {
   "cell_type": "code",
   "execution_count": 15,
   "metadata": {},
   "outputs": [],
   "source": [
    "#Move finger tips to part and save location\n",
    "global_pose = rm.get_tcp_pose()\n",
    "feature_dictionary[feature_name][\"pose\"] = global_pose"
   ]
  },
  {
   "cell_type": "code",
   "execution_count": 16,
   "metadata": {},
   "outputs": [],
   "source": [
    "#Set view distance\n",
    "view_height = 0.06\n",
    "feature_dictionary[feature_name][\"view_distance\"] = view_height\n",
    "\n",
    "#Move gripper to view location\n",
    "rm.movel(np.add(global_pose,[0,0,view_height,0,0,0]))\n",
    "rm.move_camera_over_tcp()"
   ]
  },
  {
   "cell_type": "markdown",
   "metadata": {},
   "source": [
    "# Circle Location Parameters"
   ]
  },
  {
   "cell_type": "code",
   "execution_count": null,
   "metadata": {},
   "outputs": [],
   "source": [
    "#Tune center circle parameters\n",
    "#Tune parameters to minimize false circles and find desired circle in most images\n",
    "circle_locator_params = rm.tune_circle_locator(min_hough_dist=100, param1=14, param2=13, image_blur=0, z_dist_to_cir=view_height, cir_dia=0.012, dia_tol=0.001, max_loops=5)\n",
    "print(circle_locator_params)\n",
    "feature_dictionary[feature_name][\"circle_locator_params\"] = circle_locator_params"
   ]
  },
  {
   "cell_type": "markdown",
   "metadata": {},
   "source": [
    "# General Part Location Parameters"
   ]
  },
  {
   "cell_type": "code",
   "execution_count": 17,
   "metadata": {},
   "outputs": [
    {
     "data": {
      "text/plain": [
       "0"
      ]
     },
     "execution_count": 17,
     "metadata": {},
     "output_type": "execute_result"
    }
   ],
   "source": [
    "rm.open_gripper()"
   ]
  },
  {
   "cell_type": "code",
   "execution_count": 18,
   "metadata": {},
   "outputs": [
    {
     "data": {
      "application/vnd.jupyter.widget-view+json": {
       "model_id": "dadd37ad890c4d27bab983c9507a5df6",
       "version_major": 2,
       "version_minor": 0
      },
      "text/plain": [
       "Renderer(camera=PerspectiveCamera(aspect=1.6, fov=90.0, position=(-0.015239958771838001, 0.10255384415235462, …"
      ]
     },
     "metadata": {},
     "output_type": "display_data"
    },
    {
     "data": {
      "application/vnd.jupyter.widget-view+json": {
       "model_id": "6659f986407c437a9119900c23b6d8c1",
       "version_major": 2,
       "version_minor": 0
      },
      "text/plain": [
       "HBox(children=(Label(value='Point size:'), FloatSlider(value=0.001, max=0.01, step=1e-05), Label(value='Backgr…"
      ]
     },
     "metadata": {},
     "output_type": "display_data"
    },
    {
     "name": "stdout",
     "output_type": "stream",
     "text": [
      "[170, 0.0008, 0.0033, 500]\n"
     ]
    }
   ],
   "source": [
    "#Tune general part parameters\n",
    "general_part_locator_params = rm.tune_cloud_locator(disparity_shift=170, leaf_size=0.0008, search_radius=0.0033, min_cluster_size=500)\n",
    "print(general_part_locator_params)\n",
    "feature_dictionary[feature_name][\"cloud_locator_params\"] = general_part_locator_params"
   ]
  },
  {
   "cell_type": "markdown",
   "metadata": {},
   "source": [
    "# Save Feature"
   ]
  },
  {
   "cell_type": "code",
   "execution_count": 22,
   "metadata": {},
   "outputs": [],
   "source": [
    "with open(file_name, 'wb') as f:\n",
    "    pickle.dump(feature_dictionary, f, pickle.DEFAULT_PROTOCOL)"
   ]
  },
  {
   "cell_type": "code",
   "execution_count": null,
   "metadata": {},
   "outputs": [],
   "source": []
  }
 ],
 "metadata": {
  "kernelspec": {
   "display_name": "Python 3",
   "language": "python",
   "name": "python3"
  },
  "language_info": {
   "codemirror_mode": {
    "name": "ipython",
    "version": 3
   },
   "file_extension": ".py",
   "mimetype": "text/x-python",
   "name": "python",
   "nbconvert_exporter": "python",
   "pygments_lexer": "ipython3",
   "version": "3.5.2"
  }
 },
 "nbformat": 4,
 "nbformat_minor": 2
}
